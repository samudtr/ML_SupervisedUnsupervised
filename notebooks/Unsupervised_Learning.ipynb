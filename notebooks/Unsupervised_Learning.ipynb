{
  "cells": [
    {
      "cell_type": "markdown",
      "metadata": {
        "id": "aVctb5_ckSRJ"
      },
      "source": [
        "# 1 - IMPORTING DATA"
      ]
    },
    {
      "cell_type": "markdown",
      "metadata": {
        "id": "mJ3UCAgemlHx"
      },
      "source": [
        "## 1.1 - Import Libraries"
      ]
    },
    {
      "cell_type": "code",
      "execution_count": 4,
      "metadata": {
        "id": "s8zguuG7jnkb"
      },
      "outputs": [],
      "source": [
        "# Importing python packages\n",
        "import sqlite3\n",
        "import os\n",
        "import pandas as pd\n",
        "import numpy as np\n",
        "import matplotlib.pyplot as plt\n",
        "import seaborn as sns\n",
        "from datetime import datetime\n",
        "from sklearn.impute import KNNImputer\n",
        "from sklearn.decomposition import PCA\n",
        "from sklearn.preprocessing import MinMaxScaler, StandardScaler, OneHotEncoder\n",
        "from math import ceil\n",
        "\n",
        "from sklearn.cluster import AgglomerativeClustering\n",
        "from sklearn.metrics import silhouette_score\n",
        "from scipy.cluster.hierarchy import dendrogram, linkage\n",
        "\n",
        "from sklearn.metrics import silhouette_score, silhouette_samples\n",
        "from sklearn.cluster import KMeans\n",
        "\n",
        "from collections import Counter\n",
        "from sklearn.neighbors import NearestNeighbors\n",
        "from sklearn.cluster import DBSCAN, estimate_bandwidth\n",
        "\n",
        "\n",
        "\n",
        "from sklearn.base import clone\n",
        "from sklearn.metrics import pairwise_distances\n",
        "\n",
        "from sklearn.manifold import TSNE\n",
        "from sklearn.tree import DecisionTreeClassifier, export_graphviz\n",
        "from sklearn.model_selection import train_test_split\n",
        "import graphviz\n",
        "\n",
        "\n",
        "sns.set()"
      ]
    },
    {
      "cell_type": "markdown",
      "metadata": {
        "id": "LgQG91ommp-i"
      },
      "source": [
        "## 1.2 - Import Dataset"
      ]
    },
    {
      "cell_type": "code",
      "execution_count": 6,
      "metadata": {
        "id": "r9Q8_7Wmmy3o"
      },
      "outputs": [],
      "source": [
        "\n",
        "data_path =\n",
        "\n",
        "\n",
        "df = pd.read_excel(data_path)"
      ]
    },
    {
      "cell_type": "code",
      "execution_count": 7,
      "metadata": {
        "id": "RpzTQ0Eym3_2"
      },
      "outputs": [],
      "source": [
        "## Copy the original dataset (so that we can make changes and the original remains intact)\n",
        "df_original = df.copy()"
      ]
    },
    {
      "cell_type": "markdown",
      "metadata": {
        "id": "BXoYH_MNn3n0"
      },
      "source": [
        "## 1.3 - Analyze the Dataset"
      ]
    },
    {
      "cell_type": "code",
      "execution_count": null,
      "metadata": {
        "colab": {
          "base_uri": "https://localhost:8080/"
        },
        "id": "8-z6dcs9n9WM",
        "outputId": "a99be2d9-fc2e-4dfb-ed64-2576bbed15fe"
      },
      "outputs": [],
      "source": [
        "## Retrieve the dimensions (number of rows and columns) of the DataFrame 'df'\n",
        "df.shape"
      ]
    },
    {
      "cell_type": "code",
      "execution_count": null,
      "metadata": {
        "colab": {
          "base_uri": "https://localhost:8080/"
        },
        "id": "p8w-KWgKoVLB",
        "outputId": "7ddedb86-0466-48e8-c461-6c9e99d938bc"
      },
      "outputs": [],
      "source": [
        "## Display the data type of each variable in the DataFrame 'df'\n",
        "df.dtypes"
      ]
    },
    {
      "cell_type": "code",
      "execution_count": null,
      "metadata": {
        "colab": {
          "base_uri": "https://localhost:8080/",
          "height": 0
        },
        "id": "7R-wkqcgobbx",
        "outputId": "868b0b3a-3d1f-4592-a60f-205fb09d56c7"
      },
      "outputs": [],
      "source": [
        "## # Display the first 10 rows of the dataset stored in the DataFrame 'df'\n",
        "df.head(10)"
      ]
    },
    {
      "cell_type": "code",
      "execution_count": null,
      "metadata": {
        "colab": {
          "base_uri": "https://localhost:8080/",
          "height": 0
        },
        "id": "MweAmZpgo4Gf",
        "outputId": "70a9e4d1-52fb-4d25-e209-54e24e5715d0"
      },
      "outputs": [],
      "source": [
        "## Generate a summary of the statistical characteristics of the dataset in DataFrame 'df'\n",
        "df.describe()"
      ]
    },
    {
      "cell_type": "markdown",
      "metadata": {
        "id": "L8w3Kdo5kWre"
      },
      "source": [
        "# 2 - DATA PREPARATION"
      ]
    },
    {
      "cell_type": "markdown",
      "metadata": {
        "id": "QUnPJyedpCpv"
      },
      "source": [
        "## 2.1 - Copy the Original Dataset"
      ]
    },
    {
      "cell_type": "code",
      "execution_count": 12,
      "metadata": {
        "id": "VwFtd7nDkbBP"
      },
      "outputs": [],
      "source": [
        "## Create a copy of the original DataFrame 'df' to safeguard the original data\n",
        "df_prep = df.copy()"
      ]
    },
    {
      "cell_type": "markdown",
      "metadata": {
        "id": "ueVMLZfHpYj3"
      },
      "source": [
        "## 2.2 - Replace Index Column"
      ]
    },
    {
      "cell_type": "code",
      "execution_count": null,
      "metadata": {
        "colab": {
          "base_uri": "https://localhost:8080/",
          "height": 0
        },
        "id": "bzxU0z4lpezm",
        "outputId": "5f760e51-23b4-4a75-e496-f6b9b15fe9d6"
      },
      "outputs": [],
      "source": [
        "## Replace the index of the dataset with the 'Custid' column, setting it as the new index\n",
        "df_prep.set_index('Custid', inplace = True)\n",
        "df_prep.head(10)"
      ]
    },
    {
      "cell_type": "markdown",
      "metadata": {
        "id": "ShfR_92cp-oL"
      },
      "source": [
        "## 2.3 - Change Variables Data Type"
      ]
    },
    {
      "cell_type": "code",
      "execution_count": 14,
      "metadata": {
        "id": "yeEG63LIpiew"
      },
      "outputs": [],
      "source": [
        "## Convert 'Kidhome' and 'Teenhome' variables to boolean as they represent binary values\n",
        "df_prep['Kidhome'] = df_prep['Kidhome'].astype(bool)\n",
        "df_prep['Teenhome'] = df_prep['Teenhome'].astype(bool)"
      ]
    },
    {
      "cell_type": "code",
      "execution_count": null,
      "metadata": {
        "colab": {
          "base_uri": "https://localhost:8080/",
          "height": 0
        },
        "id": "r0enMFGIrJjp",
        "outputId": "e7165429-541d-46ee-b92b-05d55b0644e3"
      },
      "outputs": [],
      "source": [
        "## Display the first 10 rows of the DataFrame 'df_prep' after converting 'Kidhome' and 'Teenhome' variables to boolean\n",
        "df_prep.head(10)"
      ]
    },
    {
      "cell_type": "markdown",
      "metadata": {
        "id": "Nh7lzdT4rdGR"
      },
      "source": [
        "## 2.4 - Duplicate Values"
      ]
    },
    {
      "cell_type": "code",
      "execution_count": null,
      "metadata": {
        "colab": {
          "base_uri": "https://localhost:8080/"
        },
        "id": "NlLleycWr_6b",
        "outputId": "a3da887a-2dd8-4e5b-ce52-91586ff7ca7a"
      },
      "outputs": [],
      "source": [
        "## Count the number of duplicate rows in the DataFrame 'df_prep'\n",
        "df_prep.duplicated().sum()"
      ]
    },
    {
      "cell_type": "markdown",
      "metadata": {
        "id": "Jnl0QUDQsChm"
      },
      "source": [
        "## 2.5 - Missing Values"
      ]
    },
    {
      "cell_type": "code",
      "execution_count": null,
      "metadata": {
        "colab": {
          "base_uri": "https://localhost:8080/"
        },
        "id": "_NrEg5ZqsFG9",
        "outputId": "074c6599-8a2e-4ab3-bf00-4f1b06c0c7bb"
      },
      "outputs": [],
      "source": [
        "## Count the number of missing values in each column of the DataFrame 'df_prep'\n",
        "df_prep.isna().sum()"
      ]
    },
    {
      "cell_type": "markdown",
      "metadata": {
        "id": "RQ_1AG8ovhFZ"
      },
      "source": [
        "## 2.6 - Metric and Non-Metric Features"
      ]
    },
    {
      "cell_type": "code",
      "execution_count": 18,
      "metadata": {
        "id": "E8fkySVCvlCV"
      },
      "outputs": [],
      "source": [
        "## Define metric variables representing quantitative features\n",
        "metric_variables = ['Dayswus', 'Age', 'Educ', 'Income', 'Freq', 'Recency',\n",
        "    'Monetary', 'LTV', 'Perdeal', 'Dryred', 'Sweetred', 'Drywh',\n",
        "    'Sweetwh', 'Dessert', 'Exotic', 'WebPurchase', 'WebVisit', 'Access']\n",
        "\n",
        "# Define non-metric variables representing categorical or binary features\n",
        "non_metric_variables = ['Teenhome', 'Kidhome']"
      ]
    },
    {
      "cell_type": "markdown",
      "metadata": {
        "id": "SiOIZnk70ghz"
      },
      "source": [
        "## 2.7 - Outliers"
      ]
    },
    {
      "cell_type": "markdown",
      "metadata": {
        "id": "SMB23qwMRs5P"
      },
      "source": [
        "**OBJECTIVE:** The objective of this section is to conduct an analysis of various variables to identify potential outliers within the dataset.\n",
        "\n",
        "**METHODOLOGY:** To accomplish this analysis, we employed a two-step approach. Initially, we performed a preliminary visual assessment utilizing boxplots and histograms. Subsequently, we conducted statistical computations involving skewness and kurtosis. For determining potential outliers, we established a guideline considering skewness values greater than the absolute value of 1 and kurtosis values greater than the absolute value of 3.\n",
        "\n",
        "**TREATMENT APPROACH:** In confirming the existence of outliers and deciding on appropriate measures, we utilized both the interquartile range method and a manual filtering method to examine and address the outliers within the data."
      ]
    },
    {
      "cell_type": "markdown",
      "metadata": {
        "id": "K5bSlTDa3gcr"
      },
      "source": [
        "### 2.7.1 - Days With Us"
      ]
    },
    {
      "cell_type": "code",
      "execution_count": null,
      "metadata": {
        "colab": {
          "base_uri": "https://localhost:8080/",
          "height": 0
        },
        "id": "YBR4XmoV7U3f",
        "outputId": "aad97dac-c8d7-46ef-b021-a463cbc972bb"
      },
      "outputs": [],
      "source": [
        "## Display a boxplot for the column 'Dayswus' to visualize its distribution\n",
        "sns.boxplot(x=df_prep['Dayswus'])\n",
        "plt.grid(False)\n",
        "plt.show()"
      ]
    },
    {
      "cell_type": "code",
      "execution_count": null,
      "metadata": {
        "colab": {
          "base_uri": "https://localhost:8080/",
          "height": 0
        },
        "id": "pioFNcSh7aMM",
        "outputId": "725eb9b9-287e-4bd8-ad22-a459276ec162"
      },
      "outputs": [],
      "source": [
        "## Display a histogram for the column 'Dayswus' to visualize its distribution\n",
        "df_prep['Dayswus'].hist(grid=False)"
      ]
    },
    {
      "cell_type": "code",
      "execution_count": null,
      "metadata": {
        "colab": {
          "base_uri": "https://localhost:8080/"
        },
        "id": "9FBBPUiU7bQc",
        "outputId": "bda437a1-80ba-49a7-fdc9-d126176590b6"
      },
      "outputs": [],
      "source": [
        "## Calculate the skewness of the 'Dayswus' column\n",
        "skewness = df_prep['Dayswus'].skew()\n",
        "print(skewness)\n",
        "\n",
        "## Interpretation of skewness values:\n",
        "## Skewness = 0: Perfectly symmetrical distribution\n",
        "## Skewness > 0: Asymmetrical distribution extending towards positive values\n",
        "## Skewness < 0: Asymmetrical distribution extending towards negative values"
      ]
    },
    {
      "cell_type": "code",
      "execution_count": null,
      "metadata": {
        "colab": {
          "base_uri": "https://localhost:8080/"
        },
        "id": "OyNFPrH97dHU",
        "outputId": "a56f08fa-9554-41aa-c3f4-02a9671c8cf5"
      },
      "outputs": [],
      "source": [
        "## Calculate the kurtosis of the 'Dayswus' column\n",
        "kurtosis = df_prep['Dayswus'].kurtosis()\n",
        "print(kurtosis)\n",
        "\n",
        "## Interpretation of kurtosis values:\n",
        "## High Kurtosis: Indicates a distribution with more potential outliers or heavier tails.\n",
        "## Low Kurtosis: Indicates a distribution with fewer potential outliers or lighter tails."
      ]
    },
    {
      "cell_type": "markdown",
      "metadata": {
        "id": "jOHk0NC45hgZ"
      },
      "source": [
        "\n",
        "**CONCLUSION**: By analyzing all the methods, we can conclude that the variable \"Dayswus\" does not have outliers."
      ]
    },
    {
      "cell_type": "markdown",
      "metadata": {
        "id": "XTxEJ_iD3lQl"
      },
      "source": [
        "### 2.7.2 - Age"
      ]
    },
    {
      "cell_type": "code",
      "execution_count": null,
      "metadata": {
        "colab": {
          "base_uri": "https://localhost:8080/",
          "height": 0
        },
        "id": "Kb6_SRHh7hcC",
        "outputId": "3cc16079-8d1e-4d91-8bdc-31a70cce2e54"
      },
      "outputs": [],
      "source": [
        "## Display a boxplot for the column 'Age' to visualize its distribution\n",
        "sns.boxplot(x=df_prep['Age'])\n",
        "plt.grid(False)\n",
        "plt.show()"
      ]
    },
    {
      "cell_type": "code",
      "execution_count": null,
      "metadata": {
        "colab": {
          "base_uri": "https://localhost:8080/",
          "height": 0
        },
        "id": "x9tjLUNy7jy0",
        "outputId": "e6a05e3c-0a93-4c6c-bc9e-4ba58862ca2d"
      },
      "outputs": [],
      "source": [
        "## Display a histogram for the column 'Age' to visualize its distribution\n",
        "df_prep['Age'].hist(grid=False)"
      ]
    },
    {
      "cell_type": "code",
      "execution_count": null,
      "metadata": {
        "colab": {
          "base_uri": "https://localhost:8080/"
        },
        "id": "ympbd8E27l29",
        "outputId": "4b6634d3-4672-45c9-9654-b510aed08f20"
      },
      "outputs": [],
      "source": [
        "## Calculate the skewness of the 'Age' column\n",
        "skewness = df_prep['Age'].skew()\n",
        "print(skewness)\n",
        "\n",
        "## Interpretation of skewness values:\n",
        "## Skewness = 0: Represents a perfectly symmetrical distribution\n",
        "## Skewness > 0: Indicates an asymmetrical distribution extending towards positive values\n",
        "## Skewness < 0: Indicates an asymmetrical distribution extending towards negative values"
      ]
    },
    {
      "cell_type": "code",
      "execution_count": null,
      "metadata": {
        "colab": {
          "base_uri": "https://localhost:8080/"
        },
        "id": "LIsQL6zG7pBL",
        "outputId": "6ff97c5e-9941-43fe-dca1-e5d26dc34f6a"
      },
      "outputs": [],
      "source": [
        "## Calculate the kurtosis of the 'Age' column\n",
        "kurtosis = df_prep['Age'].kurtosis()\n",
        "print(kurtosis)\n",
        "\n",
        "## Interpretation of kurtosis values:\n",
        "## High Kurtosis: Suggests a distribution with more potential outliers or heavier tails.\n",
        "## Low Kurtosis: Suggests a distribution with fewer potential outliers or lighter tails."
      ]
    },
    {
      "cell_type": "markdown",
      "metadata": {
        "id": "wQDyV4ji6K4I"
      },
      "source": [
        "**CONCLUSION**: By analyzing all the methods, we can conclude that the variable \"Age\" does not have outliers."
      ]
    },
    {
      "cell_type": "markdown",
      "metadata": {
        "id": "dwHlWpNS3o5v"
      },
      "source": [
        "### 2.7.3 - Education"
      ]
    },
    {
      "cell_type": "code",
      "execution_count": null,
      "metadata": {
        "colab": {
          "base_uri": "https://localhost:8080/",
          "height": 0
        },
        "id": "Wo_pljw27tGl",
        "outputId": "f306e3af-df01-45f5-db53-0d76aa190609"
      },
      "outputs": [],
      "source": [
        "## Display a boxplot for the column 'Educ' to visualize its distribution\n",
        "sns.boxplot(x=df_prep['Educ'])\n",
        "plt.grid(False)\n",
        "plt.show()"
      ]
    },
    {
      "cell_type": "code",
      "execution_count": null,
      "metadata": {
        "colab": {
          "base_uri": "https://localhost:8080/",
          "height": 0
        },
        "id": "26yOR-Qi7vYo",
        "outputId": "9ccbe973-1138-4ebf-9bad-e5905ea24c52"
      },
      "outputs": [],
      "source": [
        "## Display a histogram for the column 'Educ' to visualize its distribution\n",
        "df_prep['Educ'].hist(grid=False)"
      ]
    },
    {
      "cell_type": "code",
      "execution_count": null,
      "metadata": {
        "colab": {
          "base_uri": "https://localhost:8080/"
        },
        "id": "fdNSz5KO7xpV",
        "outputId": "92c323b3-b499-4ec5-df03-1fb4e02258bd"
      },
      "outputs": [],
      "source": [
        "## Calculate the skewness of the 'Educ' column\n",
        "skewness = df_prep['Educ'].skew()\n",
        "print(skewness)\n",
        "\n",
        "## Interpretation of skewness values:\n",
        "## Skewness = 0: Represents a perfectly symmetrical distribution\n",
        "## Skewness > 0: Indicates an asymmetrical distribution extending towards positive values\n",
        "## Skewness < 0: Indicates an asymmetrical distribution extending towards negative values"
      ]
    },
    {
      "cell_type": "code",
      "execution_count": null,
      "metadata": {
        "colab": {
          "base_uri": "https://localhost:8080/"
        },
        "id": "3VJlw5P070NH",
        "outputId": "0b15b289-ac74-4bca-cd13-abc96e11abec"
      },
      "outputs": [],
      "source": [
        "## Calculate the kurtosis of the 'Educ' column\n",
        "kurtosis = df_prep['Educ'].kurtosis()\n",
        "print(kurtosis)\n",
        "\n",
        "## Interpretation of kurtosis values:\n",
        "## High Kurtosis: Suggests a distribution with more potential outliers or heavier tails.\n",
        "## Low Kurtosis: Suggests a distribution with fewer potential outliers or lighter tails."
      ]
    },
    {
      "cell_type": "markdown",
      "metadata": {
        "id": "was3JAM9EQe5"
      },
      "source": [
        "**CONCLUSION**: By analyzing all the methods, we can conclude that the variable \"Educ\" does not have outliers."
      ]
    },
    {
      "cell_type": "markdown",
      "metadata": {
        "id": "yBBDxfKh3sU-"
      },
      "source": [
        "### 2.7.4 - Income"
      ]
    },
    {
      "cell_type": "code",
      "execution_count": null,
      "metadata": {
        "colab": {
          "base_uri": "https://localhost:8080/",
          "height": 0
        },
        "id": "MOFwzdZV3u_-",
        "outputId": "02a5f4bb-d035-466d-806f-7d4ab6d59434"
      },
      "outputs": [],
      "source": [
        "## Display a boxplot for the column 'Income' to visualize its distribution\n",
        "sns.boxplot(x=df_prep['Income'])\n",
        "plt.grid(False)\n",
        "plt.show()"
      ]
    },
    {
      "cell_type": "code",
      "execution_count": null,
      "metadata": {
        "colab": {
          "base_uri": "https://localhost:8080/",
          "height": 0
        },
        "id": "4X5ygRRz75sP",
        "outputId": "649c37f0-0703-40a7-a750-7787d2fbe832"
      },
      "outputs": [],
      "source": [
        "## Display a histogram for the column 'Income’ to visualize its distribution\n",
        "df_prep['Income'].hist(grid=False)"
      ]
    },
    {
      "cell_type": "code",
      "execution_count": null,
      "metadata": {
        "colab": {
          "base_uri": "https://localhost:8080/"
        },
        "id": "xhVlWlH577vz",
        "outputId": "5fd1052d-f58b-4965-bb3a-81644ad39b32"
      },
      "outputs": [],
      "source": [
        "## Calculate the skewness of the 'Income' column\n",
        "skewness = df_prep['Income'].skew()\n",
        "print(skewness)\n",
        "\n",
        "## Interpretation of skewness values for 'Income':\n",
        "## Skewness = 0: Indicates a perfectly symmetrical distribution\n",
        "## Skewness > 0: Suggests an asymmetrical distribution extending towards positive values\n",
        "## Skewness < 0: Suggests an asymmetrical distribution extending towards negative values"
      ]
    },
    {
      "cell_type": "code",
      "execution_count": null,
      "metadata": {
        "colab": {
          "base_uri": "https://localhost:8080/"
        },
        "id": "D7FpAvvg79Z9",
        "outputId": "e6db150c-1cde-4137-93c4-c4d373cab81c"
      },
      "outputs": [],
      "source": [
        "## Calculate the kurtosis of the 'Income' column\n",
        "kurtosis = df_prep['Income'].kurtosis()\n",
        "print(kurtosis)\n",
        "\n",
        "## Interpretation of kurtosis values for 'Income':\n",
        "## High Kurtosis: Suggests a distribution with more potential outliers or heavier tails.\n",
        "## Low Kurtosis: Suggests a distribution with fewer potential outliers or lighter tails."
      ]
    },
    {
      "cell_type": "markdown",
      "metadata": {
        "id": "0RggnSMB7_Jr"
      },
      "source": [
        "**CONCLUSION**: By analyzing all the methods, we can conclude that the variable \"Income\" does not have outliers."
      ]
    },
    {
      "cell_type": "markdown",
      "metadata": {
        "id": "sMukofY73vZ2"
      },
      "source": [
        "### 2.7.5 - Kids at Home"
      ]
    },
    {
      "cell_type": "markdown",
      "metadata": {
        "id": "gsX0KE50P638"
      },
      "source": [
        "In the case of non-metric variables like 'Kidhome', analyzing outliers through techniques such as boxplots, histograms, skewness, and kurtosis might not be meaningful. Instead, our approach was to exclusively examine the variable's distribution using a bar chart visualization and the 'value_counts()' expression. This method provides an understanding of the frequency of each unique value present within the 'Kidhome' variable. By utilizing a bar chart and 'value_counts()', we gained insight into the exact count of occurrences for different categorical values in the 'Kidhome' column."
      ]
    },
    {
      "cell_type": "code",
      "execution_count": null,
      "metadata": {
        "colab": {
          "base_uri": "https://localhost:8080/",
          "height": 0
        },
        "id": "PPYzVsDjOk3m",
        "outputId": "10bbdfd1-83cb-498e-f0ed-af2a295f8757"
      },
      "outputs": [],
      "source": [
        "## Visualizing the distribution of 'Kidhome' using a bar plot\n",
        "df_prep['Kidhome'].value_counts().plot(kind='bar')\n",
        "\n",
        "## Adding title and labels to the axes\n",
        "plt.title('Bar chart for Kidhome')\n",
        "plt.xlabel('Kidhome')\n",
        "plt.ylabel('Values')\n",
        "\n",
        "## Displaying the plot\n",
        "plt.show()"
      ]
    },
    {
      "cell_type": "code",
      "execution_count": null,
      "metadata": {
        "colab": {
          "base_uri": "https://localhost:8080/"
        },
        "id": "xhXzcTGQP14h",
        "outputId": "2bf2de03-418d-4a00-882b-d2bc86c4c631"
      },
      "outputs": [],
      "source": [
        "## Counting the occurrences of 'True' and 'False' labels in the 'Kidhome' column\n",
        "df_prep['Kidhome'].value_counts()"
      ]
    },
    {
      "cell_type": "markdown",
      "metadata": {
        "id": "5QH-Q5C43z4M"
      },
      "source": [
        "### 2.7.6 - Teens at Home"
      ]
    },
    {
      "cell_type": "markdown",
      "metadata": {
        "id": "CKQsuQT8QhOC"
      },
      "source": [
        "For non-metric variables like 'Kidhome', conventional outlier analysis methods such as boxplots, histograms, skewness, and kurtosis are inappropriate. Instead, we focused on examining the variable's distribution solely using a bar chart visualization and the 'value_counts()' expression. This approach offers a clear understanding of the frequency count for each unique value present within the 'Kidhome' variable, providing an overview of the dataset's categorical distribution."
      ]
    },
    {
      "cell_type": "code",
      "execution_count": null,
      "metadata": {
        "colab": {
          "base_uri": "https://localhost:8080/",
          "height": 0
        },
        "id": "wclpMR3hPmdq",
        "outputId": "78224129-59c0-45a0-9625-6762c834f486"
      },
      "outputs": [],
      "source": [
        "## Creating a bar plot to visualize the distribution of 'Teenhome'\n",
        "df_prep['Teenhome'].value_counts().plot(kind='bar')\n",
        "\n",
        "## Adding title and labels to the axes\n",
        "plt.title('Bar chart for Teenhome')\n",
        "plt.xlabel('Teenhome')\n",
        "plt.ylabel('Values')\n",
        "\n",
        "## Displaying the plot\n",
        "plt.show()"
      ]
    },
    {
      "cell_type": "code",
      "execution_count": null,
      "metadata": {
        "colab": {
          "base_uri": "https://localhost:8080/"
        },
        "id": "67Fb-T24P4Ma",
        "outputId": "3640b814-bdda-4aa3-e130-7ecf75c5e88d"
      },
      "outputs": [],
      "source": [
        "## Counting the occurrences of 'True' and 'False' labels in the 'Teenhome' column\n",
        "df_prep['Teenhome'].value_counts()"
      ]
    },
    {
      "cell_type": "markdown",
      "metadata": {
        "id": "QOWG28cO34zd"
      },
      "source": [
        "### 2.7.7 - Frequency"
      ]
    },
    {
      "cell_type": "code",
      "execution_count": null,
      "metadata": {
        "colab": {
          "base_uri": "https://localhost:8080/",
          "height": 0
        },
        "id": "-Ggj5tqL37iw",
        "outputId": "a25ac162-1d20-4827-90df-a8fc04a8b703"
      },
      "outputs": [],
      "source": [
        "## Display a boxplot for the column 'Freq' to visualize its distribution\n",
        "sns.boxplot(x=df_prep['Freq'])\n",
        "plt.grid(False)\n",
        "plt.show()"
      ]
    },
    {
      "cell_type": "code",
      "execution_count": null,
      "metadata": {
        "colab": {
          "base_uri": "https://localhost:8080/",
          "height": 0
        },
        "id": "UZ_5_AzS8Mit",
        "outputId": "7dec2d18-bf47-4387-f938-a947d8ef81cd"
      },
      "outputs": [],
      "source": [
        "## Display a histogram for the column 'Freq' to visualize its distribution\n",
        "df_prep['Freq'].hist(grid=False)"
      ]
    },
    {
      "cell_type": "code",
      "execution_count": null,
      "metadata": {
        "colab": {
          "base_uri": "https://localhost:8080/"
        },
        "id": "6Jv59vfs8PNi",
        "outputId": "eb401fcd-4f16-4bfe-98bd-ff0c7fdbba4d"
      },
      "outputs": [],
      "source": [
        "## Calculate the skewness of the 'Freq' column\n",
        "skewness = df_prep['Freq'].skew()\n",
        "print(skewness)\n",
        "\n",
        "## Interpretation of skewness values for 'Freq':\n",
        "## Skewness = 0: Represents a perfectly symmetrical distribution\n",
        "## Skewness > 0: Suggests an asymmetrical distribution extending towards positive values\n",
        "## Skewness < 0: Suggests an asymmetrical distribution extending towards negative values"
      ]
    },
    {
      "cell_type": "code",
      "execution_count": null,
      "metadata": {
        "colab": {
          "base_uri": "https://localhost:8080/"
        },
        "id": "R_1t3Owy8SSK",
        "outputId": "f458057c-61b8-4f25-9012-ad1eb0223665"
      },
      "outputs": [],
      "source": [
        "## Calculate the kurtosis of the 'Freq' column\n",
        "kurtosis = df_prep['Freq'].kurtosis()\n",
        "print(kurtosis)\n",
        "\n",
        "## Interpretation of kurtosis values for 'Freq':\n",
        "## High Kurtosis: Indicates a distribution with more potential outliers or heavier tails\n",
        "## Low Kurtosis: Indicates a distribution with fewer potential outliers or lighter tails"
      ]
    },
    {
      "cell_type": "markdown",
      "metadata": {
        "id": "FgK8AZpI8U--"
      },
      "source": [
        "**CONCLUSION**: The boxplot analysis initially indicated potential outliers in the 'Freq' variable. However, subsequent assessments through skewness and kurtosis calculations suggest no evidence of outliers in the 'Freq' distribution. This incongruity between the visual inspection via boxplot and statistical measures emphasizes the necessity for further investigation using alternative outlier detection methods for a comprehensive assessment.\n"
      ]
    },
    {
      "cell_type": "markdown",
      "metadata": {
        "id": "WHtv88NK371L"
      },
      "source": [
        "### 2.7.8 - Recency"
      ]
    },
    {
      "cell_type": "code",
      "execution_count": null,
      "metadata": {
        "colab": {
          "base_uri": "https://localhost:8080/",
          "height": 0
        },
        "id": "xup7QH3f3_OK",
        "outputId": "b87750d1-006c-4d08-ff57-83d102600391"
      },
      "outputs": [],
      "source": [
        "## Displaying a boxplot to visualize the distribution of 'Recency'\n",
        "sns.boxplot(x=df_prep['Recency'])\n",
        "plt.grid(False)\n",
        "plt.show()"
      ]
    },
    {
      "cell_type": "code",
      "execution_count": null,
      "metadata": {
        "colab": {
          "base_uri": "https://localhost:8080/",
          "height": 0
        },
        "id": "q9M72MRA8qVL",
        "outputId": "0b40ec63-7414-4513-830d-d8d238574e0b"
      },
      "outputs": [],
      "source": [
        "## Displaying a histogram to visualize the distribution of 'Recency'\n",
        "df_prep['Recency'].hist(grid=False)"
      ]
    },
    {
      "cell_type": "code",
      "execution_count": null,
      "metadata": {
        "colab": {
          "base_uri": "https://localhost:8080/"
        },
        "id": "iDh_3ndn8tAC",
        "outputId": "e690441f-c344-4f93-c9d3-643d44aee6b1"
      },
      "outputs": [],
      "source": [
        "## Calculate the skewness of the 'Recency' column\n",
        "skewness = df_prep['Recency'].skew()\n",
        "print(skewness)\n",
        "\n",
        "## Interpretation of skewness values for 'Recency':\n",
        "## Skewness = 0: Indicates a perfectly symmetrical distribution\n",
        "## Skewness > 0: Indicates an asymmetrical distribution extending towards positive values\n",
        "## Skewness < 0: Indicates an asymmetrical distribution extending towards negative values"
      ]
    },
    {
      "cell_type": "code",
      "execution_count": null,
      "metadata": {
        "colab": {
          "base_uri": "https://localhost:8080/"
        },
        "id": "baC-CglZ8wCj",
        "outputId": "7bb89eab-6758-41e0-bddb-1b77fe40cc98"
      },
      "outputs": [],
      "source": [
        "## Calculate the kurtosis of the 'Recency' column\n",
        "kurtosis = df_prep['Recency'].kurtosis()\n",
        "print(kurtosis)\n",
        "\n",
        "## Interpretation of kurtosis values for 'Recency':\n",
        "## High Kurtosis: Indicates a distribution with more potential outliers or heavier tails\n",
        "## Low Kurtosis: Indicates a distribution with fewer potential outliers or lighter tails"
      ]
    },
    {
      "cell_type": "markdown",
      "metadata": {
        "id": "oKN4URIj83oT"
      },
      "source": [
        "**CONCLUSION:** Upon analysis of the visual representations (boxplot and histogram) and statistical calculations, it appears probable that the \"Recency\" variable might contain outliers. To confirm the presence of outliers, we intend to perform outlier detection methods such as the Interquartile Range (IQR) method or consider a manual approach."
      ]
    },
    {
      "cell_type": "code",
      "execution_count": null,
      "metadata": {
        "colab": {
          "base_uri": "https://localhost:8080/"
        },
        "id": "Rz9pnBLP9yeQ",
        "outputId": "953e9fc7-fdd8-497a-bc8c-bfe7aca03c77"
      },
      "outputs": [],
      "source": [
        "## IQR method for outlier detection in the 'Recency' variable\n",
        "## Calculating the 1st and 3rd quartiles\n",
        "Q1 = df_prep['Recency'].quantile(0.25)\n",
        "Q3 = df_prep['Recency'].quantile(0.75)\n",
        "IQR = Q3 - Q1\n",
        "\n",
        "## Establishing the lower and upper bounds for outliers\n",
        "lower_bound = Q1 - 1.5 * IQR\n",
        "upper_bound = Q3 + 1.5 * IQR\n",
        "\n",
        "## Counting the number of outlier rows\n",
        "recency_outliers_count = df_prep[(df_prep['Recency'] < lower_bound) | (df_prep['Recency'] > upper_bound)].shape[0]\n",
        "recency_outliers_count"
      ]
    },
    {
      "cell_type": "code",
      "execution_count": null,
      "metadata": {
        "colab": {
          "base_uri": "https://localhost:8080/"
        },
        "id": "yTkbTrhYAGcP",
        "outputId": "11fa52b8-a903-46cb-ba94-e0103b89ae33"
      },
      "outputs": [],
      "source": [
        "## Identifying and counting values greater than 100 in the 'Recency' variable\n",
        "recency_values_greater_100 = df_prep.loc[df_prep['Recency'] > 100]\n",
        "print(len(recency_values_greater_100))"
      ]
    },
    {
      "cell_type": "markdown",
      "metadata": {
        "id": "_OAOTMNnJ6gy"
      },
      "source": [
        "**CONCLUSION:** After confirming outliers using the interquartile range method and manual filtering, we chose not to remove them as they were prevalent and represented more than 3%. Since eliminating these outliers would lead to a significant loss of data, so we retained them for the current analysis."
      ]
    },
    {
      "cell_type": "markdown",
      "metadata": {
        "id": "Ox79k3ep3_1R"
      },
      "source": [
        "### 2.7.9 - Monetary"
      ]
    },
    {
      "cell_type": "code",
      "execution_count": null,
      "metadata": {
        "colab": {
          "base_uri": "https://localhost:8080/",
          "height": 0
        },
        "id": "G9_4xdbE4DzO",
        "outputId": "6cf47cad-fde5-4976-be04-7834422f1328"
      },
      "outputs": [],
      "source": [
        "## Displaying a boxplot to visualize the distribution of 'Monetary'\n",
        "sns.boxplot(x=df_prep['Monetary'])\n",
        "plt.grid(False)\n",
        "plt.show()"
      ]
    },
    {
      "cell_type": "code",
      "execution_count": null,
      "metadata": {
        "colab": {
          "base_uri": "https://localhost:8080/",
          "height": 0
        },
        "id": "G1hr0PSfCIiG",
        "outputId": "a220e199-4e1f-4ae8-a026-22598e05275b"
      },
      "outputs": [],
      "source": [
        "## Displaying a histogram to visualize the distribution of 'Monetary'\n",
        "df_prep['Monetary'].hist(grid=False)"
      ]
    },
    {
      "cell_type": "code",
      "execution_count": null,
      "metadata": {
        "colab": {
          "base_uri": "https://localhost:8080/"
        },
        "id": "vd2auFJHCKrw",
        "outputId": "1a05a1ef-04b6-4691-9a5d-5369b877e91a"
      },
      "outputs": [],
      "source": [
        "## Calculating the skewness of the 'Monetary' column\n",
        "skewness = df_prep['Monetary'].skew()\n",
        "print(skewness)\n",
        "\n",
        "## Interpretation of skewness values for 'Monetary':\n",
        "## Skewness = 0: Indicates a perfectly symmetrical distribution\n",
        "## Skewness > 0: Indicates an asymmetrical distribution extending towards positive values\n",
        "## Skewness < 0: Indicates an asymmetrical distribution extending towards negative values"
      ]
    },
    {
      "cell_type": "code",
      "execution_count": null,
      "metadata": {
        "colab": {
          "base_uri": "https://localhost:8080/"
        },
        "id": "zevyUbUlCMlm",
        "outputId": "56b05fc3-dbd3-42b8-ba3b-bb038dd9e3f3"
      },
      "outputs": [],
      "source": [
        "## Calculating the kurtosis of the 'Monetary' column\n",
        "kurtosis = df_prep['Monetary'].kurtosis()\n",
        "print(kurtosis)\n",
        "\n",
        "## Interpretation of kurtosis values for 'Monetary':\n",
        "## High Kurtosis: Indicates a distribution with more potential outliers\n",
        "## Low Kurtosis: Indicates a distribution with fewer potential outliers"
      ]
    },
    {
      "cell_type": "markdown",
      "metadata": {
        "id": "KkBvO0e0CWln"
      },
      "source": [
        "**Conclusion:** After analyzing 'Monetary' variable for outliers. While the boxplot indicates potential outliers in the 'Monetary' variable, both skewness and kurtosis calculations suggest otherwise. Skewness and kurtosis values fall within ranges indicative of no outliers in 'Monetary'.\n"
      ]
    },
    {
      "cell_type": "markdown",
      "metadata": {
        "id": "qAFSGZ3t4EBz"
      },
      "source": [
        "### 2.7.10 - LTV (Lifetime Value)"
      ]
    },
    {
      "cell_type": "code",
      "execution_count": null,
      "metadata": {
        "colab": {
          "base_uri": "https://localhost:8080/",
          "height": 0
        },
        "id": "Y-7ulIau4JbT",
        "outputId": "80b08264-0896-4428-a5d1-4394c418f43b"
      },
      "outputs": [],
      "source": [
        "## Displaying a boxplot to visualize the distribution of 'LTV'\n",
        "sns.boxplot(x=df_prep['LTV'])\n",
        "plt.grid(False)\n",
        "plt.show()"
      ]
    },
    {
      "cell_type": "code",
      "execution_count": null,
      "metadata": {
        "colab": {
          "base_uri": "https://localhost:8080/",
          "height": 0
        },
        "id": "Vx1qSHlNChT6",
        "outputId": "c14f0bfc-71f5-4fb6-a0d9-d667061a0f10"
      },
      "outputs": [],
      "source": [
        "# Displaying a histogram to visualize the distribution of 'LTV'\n",
        "df_prep['LTV'].hist(grid=False)"
      ]
    },
    {
      "cell_type": "code",
      "execution_count": null,
      "metadata": {
        "colab": {
          "base_uri": "https://localhost:8080/"
        },
        "id": "4Qa80W5uCkR2",
        "outputId": "f5ab5bbc-af2d-4534-96ae-30d7c7f05c83"
      },
      "outputs": [],
      "source": [
        "# Calculating the skewness of the 'LTV' column\n",
        "skewness = df_prep['LTV'].skew()\n",
        "print(skewness)\n",
        "\n",
        "## Interpretation of skewness values for 'LTV':\n",
        "## Skewness = 0: Indicates a perfectly symmetrical distribution\n",
        "## Skewness > 0: Indicates an asymmetrical distribution extending towards positive values\n",
        "## Skewness < 0: Indicates an asymmetrical distribution extending towards negative values"
      ]
    },
    {
      "cell_type": "code",
      "execution_count": null,
      "metadata": {
        "colab": {
          "base_uri": "https://localhost:8080/"
        },
        "id": "iwoP8gczCm7T",
        "outputId": "47cd9fc4-1b41-4571-d781-0edb3b79a6ab"
      },
      "outputs": [],
      "source": [
        "## Calculating the kurtosis of the 'LTV' column\n",
        "kurtosis = df_prep['LTV'].kurtosis()\n",
        "print(kurtosis)\n",
        "\n",
        "## Interpretation of kurtosis values for 'LTV':\n",
        "## High Kurtosis: Indicates a distribution with more potential outliers\n",
        "## Low Kurtosis: Indicates a distribution with fewer potential outliers"
      ]
    },
    {
      "cell_type": "markdown",
      "metadata": {
        "id": "NcdYFbUHCsf-"
      },
      "source": [
        "**CONCLUSION**: Based on the analysis of graphs and statistical calculations, it appears that the \"LTV\" variable potentially contains outliers. To verify and identify these outliers, further methods such as using the Interquartile Range (IQR) or employing manual approaches will be employed."
      ]
    },
    {
      "cell_type": "code",
      "execution_count": null,
      "metadata": {
        "colab": {
          "base_uri": "https://localhost:8080/"
        },
        "id": "nXOJUUfQC-bQ",
        "outputId": "4af16a25-19d0-4d4d-a1be-a6fe493297a5"
      },
      "outputs": [],
      "source": [
        "## IQR method to identify potential outliers in the 'LTV' column\n",
        "## Define the 1st and 3rd quartiles\n",
        "Q1 = df_prep['LTV'].quantile(0.25)\n",
        "Q3 = df_prep['LTV'].quantile(0.75)\n",
        "IQR = Q3 - Q1\n",
        "\n",
        "## Define the lower and upper bounds to detect outliers\n",
        "lower_bound = Q1 - 1.5 * IQR\n",
        "upper_bound = Q3 + 1.5 * IQR\n",
        "\n",
        "## Calculate the total number of rows potentially affected by outliers\n",
        "LTV_outliers_count = df_prep[(df_prep['LTV'] < lower_bound) | (df_prep['LTV'] > upper_bound)].shape[0]\n",
        "LTV_outliers_count"
      ]
    },
    {
      "cell_type": "code",
      "execution_count": null,
      "metadata": {
        "colab": {
          "base_uri": "https://localhost:8080/"
        },
        "id": "VzKY0xdNDiQP",
        "outputId": "bb6770da-b22f-42e6-a1c8-1d5d85da9e47"
      },
      "outputs": [],
      "source": [
        "## Analyzing values greater than 900 in the 'LTV' column to identify potential outliers\n",
        "## By analyzing the boxplot, it is evident that most outliers are greater than 900\n",
        "## Let's determine the total count of values exceeding 900\n",
        "LTV_values_greater_900 = df_prep.loc[df_prep['LTV'] > 900]\n",
        "print(len(LTV_values_greater_900))"
      ]
    },
    {
      "cell_type": "markdown",
      "metadata": {
        "id": "FI94jwqqJ4K8"
      },
      "source": [
        "**CONCLUSION:** After confirming outliers using the interquartile range method and manual filtering, we chose not to remove them as they were prevalent and represented more than 3%. Since eliminating these outliers would lead to a significant loss of data, so we retained them for the current analysis."
      ]
    },
    {
      "cell_type": "markdown",
      "metadata": {
        "id": "h1ZTJiEq4Jv7"
      },
      "source": [
        "### 2.7.11 - Perdeal"
      ]
    },
    {
      "cell_type": "code",
      "execution_count": null,
      "metadata": {
        "colab": {
          "base_uri": "https://localhost:8080/",
          "height": 0
        },
        "id": "ibNB2OnG4MsJ",
        "outputId": "379670c5-57dd-4c05-bb5a-a202c66484b4"
      },
      "outputs": [],
      "source": [
        "## Displaying a boxplot to visualize the distribution of 'Perdeal'\n",
        "sns.boxplot(x=df_prep['Perdeal'])\n",
        "plt.grid(False)\n",
        "plt.show()"
      ]
    },
    {
      "cell_type": "code",
      "execution_count": null,
      "metadata": {
        "colab": {
          "base_uri": "https://localhost:8080/",
          "height": 0
        },
        "id": "y0P_rFpMD4Dl",
        "outputId": "68d60909-7e5d-4418-8d17-8af28b8c9d59"
      },
      "outputs": [],
      "source": [
        "## Displaying a histogram to visualize the distribution of 'Perdeal'\n",
        "df_prep['Perdeal'].hist(grid=False)"
      ]
    },
    {
      "cell_type": "code",
      "execution_count": null,
      "metadata": {
        "colab": {
          "base_uri": "https://localhost:8080/"
        },
        "id": "sQC8xB1DD6M-",
        "outputId": "6e476220-da34-4a53-92fa-a7f5cad7e98c"
      },
      "outputs": [],
      "source": [
        "## Calculate the skewness of the 'Perdeal' column\n",
        "skewness = df_prep['Perdeal'].skew()\n",
        "print(skewness)\n",
        "\n",
        "## Interpretation of skewness values for 'Recency':\n",
        "## Skewness = 0: Indicates a perfectly symmetrical distribution\n",
        "## Skewness > 0: Indicates an asymmetrical distribution extending towards positive values\n",
        "## Skewness < 0: Indicates an asymmetrical distribution extending towards negative values"
      ]
    },
    {
      "cell_type": "code",
      "execution_count": null,
      "metadata": {
        "colab": {
          "base_uri": "https://localhost:8080/"
        },
        "id": "3S8Cu3buD7y3",
        "outputId": "8a5292fe-0b10-4e5a-a8e6-dd95b97d9d00"
      },
      "outputs": [],
      "source": [
        "## Calculate the kurtosis of the 'Perdeal' column\n",
        "kurtosis = df_prep['Perdeal'].kurtosis()\n",
        "print(kurtosis)\n",
        "\n",
        "## Interpretation of kurtosis values for 'Perdeal':\n",
        "## High Kurtosis: Indicates a distribution with more potential outliers or heavier tails\n",
        "## Low Kurtosis: Indicates a distribution with fewer potential outliers or lighter tails"
      ]
    },
    {
      "cell_type": "markdown",
      "metadata": {
        "id": "gYt1ksblEFxV"
      },
      "source": [
        "***CONCLUSION***: By analyzing all the methods, we can conclude that the variable \"**Perdeal**\" does not have outliers."
      ]
    },
    {
      "cell_type": "markdown",
      "metadata": {
        "id": "B2Wdvphq4NA4"
      },
      "source": [
        "### 2.7.12 - Dry Red Wine"
      ]
    },
    {
      "cell_type": "code",
      "execution_count": null,
      "metadata": {
        "colab": {
          "base_uri": "https://localhost:8080/",
          "height": 0
        },
        "id": "DGuqqegE4QM3",
        "outputId": "84e0002a-e553-483c-e607-dd98d1f44dd3"
      },
      "outputs": [],
      "source": [
        "## Displaying a boxplot to visualize the distribution of 'Dryred'\n",
        "sns.boxplot(x=df_prep['Dryred'])\n",
        "plt.grid(False)\n",
        "plt.show()"
      ]
    },
    {
      "cell_type": "code",
      "execution_count": null,
      "metadata": {
        "colab": {
          "base_uri": "https://localhost:8080/",
          "height": 0
        },
        "id": "JF5ZGX91E7c2",
        "outputId": "235e83de-668f-4ef5-82f5-97e8f15b96fc"
      },
      "outputs": [],
      "source": [
        "## Displaying a histogram to visualize the distribution of 'Dryred'\n",
        "df_prep['Dryred'].hist(grid=False)"
      ]
    },
    {
      "cell_type": "code",
      "execution_count": null,
      "metadata": {
        "colab": {
          "base_uri": "https://localhost:8080/"
        },
        "id": "BUtpNY_sE7-J",
        "outputId": "585162bb-f7b5-42d4-ddf2-784fc0891f00"
      },
      "outputs": [],
      "source": [
        "## Calculate the skewness of the 'Dryred' column\n",
        "skewness = df_prep['Dryred'].skew()\n",
        "print(skewness)\n",
        "\n",
        "## Interpretation of skewness values for 'Dryred':\n",
        "## Skewness = 0: Indicates a perfectly symmetrical distribution\n",
        "## Skewness > 0: Indicates an asymmetrical distribution extending towards positive values\n",
        "## Skewness < 0: Indicates an asymmetrical distribution extending towards negative values"
      ]
    },
    {
      "cell_type": "code",
      "execution_count": null,
      "metadata": {
        "colab": {
          "base_uri": "https://localhost:8080/"
        },
        "id": "txw1HrkiE9e9",
        "outputId": "16db09d2-e7c0-4d90-940e-47dc22811f90"
      },
      "outputs": [],
      "source": [
        "## Calculate the kurtosis of the 'Dryred' column\n",
        "kurtosis = df_prep['Dryred'].kurtosis()\n",
        "print(kurtosis)\n",
        "\n",
        "## Interpretation of kurtosis values for 'Dryred':\n",
        "## High Kurtosis: Indicates a distribution with more potential outliers or heavier tails\n",
        "## Low Kurtosis: Indicates a distribution with fewer potential outliers or lighter tails"
      ]
    },
    {
      "cell_type": "markdown",
      "metadata": {
        "id": "4BEOMQY-E_Qd"
      },
      "source": [
        "***CONCLUSION***: By analyzing all the methods, we can conclude that the variable \"**Dryred**\" does not have outliers."
      ]
    },
    {
      "cell_type": "markdown",
      "metadata": {
        "id": "DL_Ddjgl4Qhi"
      },
      "source": [
        "### 2.7.13 - Sweet Red Wine"
      ]
    },
    {
      "cell_type": "code",
      "execution_count": null,
      "metadata": {
        "colab": {
          "base_uri": "https://localhost:8080/",
          "height": 0
        },
        "id": "XHhhVc1-4Wmb",
        "outputId": "a5be2cf4-31c6-48cf-930d-fb5f83ccace7"
      },
      "outputs": [],
      "source": [
        "## Displaying a boxplot to visualize the distribution of 'Sweetred'\n",
        "sns.boxplot(x=df_prep['Sweetred'])\n",
        "plt.grid(False)\n",
        "plt.show()"
      ]
    },
    {
      "cell_type": "code",
      "execution_count": null,
      "metadata": {
        "colab": {
          "base_uri": "https://localhost:8080/",
          "height": 0
        },
        "id": "DnYmf4sKFHjh",
        "outputId": "93a626e9-fd2b-479b-a37b-8c2b34177c2b"
      },
      "outputs": [],
      "source": [
        "## Displaying a histogram to visualize the distribution of 'Sweetred'\n",
        "df_prep['Sweetred'].hist(grid=False)"
      ]
    },
    {
      "cell_type": "code",
      "execution_count": null,
      "metadata": {
        "colab": {
          "base_uri": "https://localhost:8080/"
        },
        "id": "cgxu9XTSFJDs",
        "outputId": "f27ffe20-32f8-47ec-d110-7220243fb213"
      },
      "outputs": [],
      "source": [
        "## Calculate the skewness of the 'Sweetred' column\n",
        "skewness = df_prep['Sweetred'].skew()\n",
        "print(skewness)\n",
        "\n",
        "## Interpretation of skewness values for 'Sweetred':\n",
        "## Skewness = 0: Indicates a perfectly symmetrical distribution\n",
        "## Skewness > 0: Indicates an asymmetrical distribution extending towards positive values\n",
        "## Skewness < 0: Indicates an asymmetrical distribution extending towards negative values"
      ]
    },
    {
      "cell_type": "code",
      "execution_count": null,
      "metadata": {
        "colab": {
          "base_uri": "https://localhost:8080/"
        },
        "id": "s3ZEiKgOFLV5",
        "outputId": "926e6410-0f35-48ee-b79e-84049e6a183c"
      },
      "outputs": [],
      "source": [
        "## Calculate the kurtosis of the 'Sweetred' column\n",
        "kurtosis = df_prep['Sweetred'].kurtosis()\n",
        "print(kurtosis)\n",
        "\n",
        "## Interpretation of kurtosis values for 'Sweetred':\n",
        "## High Kurtosis: Indicates a distribution with more potential outliers or heavier tails\n",
        "## Low Kurtosis: Indicates a distribution with fewer potential outliers or lighter tails"
      ]
    },
    {
      "cell_type": "markdown",
      "metadata": {
        "id": "mndSH141FQbi"
      },
      "source": [
        "**CONCLUSION:** Upon analysis of the visual representations (boxplot and histogram) and statistical calculations, it appears probable that the \"Sweetred\" variable might contain outliers. To confirm the presence of outliers, we intend to perform outlier detection methods such as the Interquartile Range (IQR) method or consider a manual approach."
      ]
    },
    {
      "cell_type": "code",
      "execution_count": null,
      "metadata": {
        "colab": {
          "base_uri": "https://localhost:8080/"
        },
        "id": "SSfTrhGFFTc_",
        "outputId": "44bb4e53-674d-4b95-c023-3dc1badd793f"
      },
      "outputs": [],
      "source": [
        "## IQR method for identifying potential outliers in the variable \"Sweetred\"\n",
        "## Define the 1st and 3rd quartiles\n",
        "Q1 = df_prep['Sweetred'].quantile(0.25)\n",
        "Q3 = df_prep['Sweetred'].quantile(0.75)\n",
        "IQR = Q3 - Q1\n",
        "\n",
        "## Define the lower and upper bounds\n",
        "lower_bound = Q1 - 1.5 * IQR\n",
        "upper_bound = Q3 + 1.5 * IQR\n",
        "\n",
        "## Calculate the total number of rows potentially affected by outliers\n",
        "Sweetred_outliers_count = df_prep[(df_prep['Sweetred'] < lower_bound) | (df_prep['Sweetred'] > upper_bound)].shape[0]\n",
        "Sweetred_outliers_count"
      ]
    },
    {
      "cell_type": "code",
      "execution_count": null,
      "metadata": {
        "colab": {
          "base_uri": "https://localhost:8080/"
        },
        "id": "GeX4fjdcFf_-",
        "outputId": "f6319441-d691-4952-f47c-4227fe636e70"
      },
      "outputs": [],
      "source": [
        "## After analyzing the boxplot, it's evident that a majority of outliers are above the value of 22\n",
        "## We'll calculate the total count of values exceeding 22 to further investigate\n",
        "Sweetred_values_greater_22 = df_prep.loc[df_prep['Sweetred'] > 22]\n",
        "print(len(Sweetred_values_greater_22))"
      ]
    },
    {
      "cell_type": "markdown",
      "metadata": {
        "id": "1n2ktsdJJ1NZ"
      },
      "source": [
        "**CONCLUSION:** After confirming outliers using the interquartile range method and manual filtering, we chose not to remove them as they were prevalent and represented more than 3%. Since eliminating these outliers would lead to a significant loss of data, so we retained them for the current analysis."
      ]
    },
    {
      "cell_type": "markdown",
      "metadata": {
        "id": "1KH36Lu94W8r"
      },
      "source": [
        "### 2.7.14 - Dry White Wine"
      ]
    },
    {
      "cell_type": "code",
      "execution_count": null,
      "metadata": {
        "colab": {
          "base_uri": "https://localhost:8080/",
          "height": 0
        },
        "id": "uiZs64g04aoK",
        "outputId": "64b9b7b3-843e-4ab4-f792-6488a84298ed"
      },
      "outputs": [],
      "source": [
        "## Displaying a boxplot to visualize the distribution of 'Drywh'\n",
        "sns.boxplot(x=df_prep['Drywh'])\n",
        "plt.grid(False)\n",
        "plt.show()"
      ]
    },
    {
      "cell_type": "code",
      "execution_count": null,
      "metadata": {
        "colab": {
          "base_uri": "https://localhost:8080/",
          "height": 0
        },
        "id": "Cl7vZfX2F2A-",
        "outputId": "c5b7c01f-361f-4ee7-f151-fb87766ed96f"
      },
      "outputs": [],
      "source": [
        "## Displaying a histogram to visualize the distribution of 'Drywh'\n",
        "df_prep['Drywh'].hist(grid=False)"
      ]
    },
    {
      "cell_type": "code",
      "execution_count": null,
      "metadata": {
        "colab": {
          "base_uri": "https://localhost:8080/"
        },
        "id": "ZiGPk-ADF6F1",
        "outputId": "47ad2bbe-c437-44f0-d3d0-741f9a74218b"
      },
      "outputs": [],
      "source": [
        "## Calculate the skewness of the 'Drywh' column\n",
        "skewness = df_prep['Drywh'].skew()\n",
        "print(skewness)\n",
        "\n",
        "## Interpretation of skewness values for 'Drywh':\n",
        "## Skewness = 0: Indicates a perfectly symmetrical distribution\n",
        "## Skewness > 0: Indicates an asymmetrical distribution extending towards positive values\n",
        "## Skewness < 0: Indicates an asymmetrical distribution extending towards negative values"
      ]
    },
    {
      "cell_type": "code",
      "execution_count": null,
      "metadata": {
        "colab": {
          "base_uri": "https://localhost:8080/"
        },
        "id": "17ArKpgYF6oB",
        "outputId": "547b79e7-e195-448e-d2a0-be881ac4c68e"
      },
      "outputs": [],
      "source": [
        "## Calculate the kurtosis of the 'Drywh' column\n",
        "kurtosis = df_prep['Drywh'].kurtosis()\n",
        "print(kurtosis)\n",
        "\n",
        "## Interpretation of kurtosis values for 'Recency':\n",
        "## High Kurtosis: Indicates a distribution with more potential outliers or heavier tails\n",
        "## Low Kurtosis: Indicates a distribution with fewer potential outliers or lighter tails"
      ]
    },
    {
      "cell_type": "markdown",
      "metadata": {
        "id": "zKILjRUcF8kI"
      },
      "source": [
        "***CONCLUSION***: By analyzing all the methods, we can conclude that the variable \"**Drywh**\" does not have outliers."
      ]
    },
    {
      "cell_type": "markdown",
      "metadata": {
        "id": "o48JS3HY4a_H"
      },
      "source": [
        "### 2.7.15 - Sweet White Wine"
      ]
    },
    {
      "cell_type": "code",
      "execution_count": null,
      "metadata": {
        "colab": {
          "base_uri": "https://localhost:8080/",
          "height": 0
        },
        "id": "fInabgKh4e8A",
        "outputId": "13f785e0-726f-4b7f-8848-b13cf11efe13"
      },
      "outputs": [],
      "source": [
        "## Displaying a boxplot to visualize the distribution of 'Sweetwh'\n",
        "sns.boxplot(x=df_prep['Sweetwh'])\n",
        "plt.grid(False)\n",
        "plt.show()"
      ]
    },
    {
      "cell_type": "code",
      "execution_count": null,
      "metadata": {
        "colab": {
          "base_uri": "https://localhost:8080/",
          "height": 0
        },
        "id": "TXOWnU5ZGC-5",
        "outputId": "b44b5464-d3b0-4a5b-8d2d-fafadf565696"
      },
      "outputs": [],
      "source": [
        "## Displaying a histogram to visualize the distribution of 'Sweetwh'\n",
        "df_prep['Sweetwh'].hist(grid=False)"
      ]
    },
    {
      "cell_type": "code",
      "execution_count": null,
      "metadata": {
        "colab": {
          "base_uri": "https://localhost:8080/"
        },
        "id": "cBurE9kkGEsN",
        "outputId": "8e34a8d4-f99d-42b7-9be8-4958f0fcb51c"
      },
      "outputs": [],
      "source": [
        "## Calculate the skewness of the 'Sweetwh' column\n",
        "skewness = df_prep['Sweetwh'].skew()\n",
        "print(skewness)\n",
        "\n",
        "## Interpretation of skewness values for 'Sweetwh':\n",
        "## Skewness = 0: Indicates a perfectly symmetrical distribution\n",
        "## Skewness > 0: Indicates an asymmetrical distribution extending towards positive values\n",
        "## Skewness < 0: Indicates an asymmetrical distribution extending towards negative values"
      ]
    },
    {
      "cell_type": "code",
      "execution_count": null,
      "metadata": {
        "colab": {
          "base_uri": "https://localhost:8080/"
        },
        "id": "dI5mxeD8GGyK",
        "outputId": "25dcdcea-5b67-4a06-dcb6-c7466e85376c"
      },
      "outputs": [],
      "source": [
        "## Calculate the kurtosis of the 'Sweetwh' column\n",
        "kurtosis = df_prep['Sweetwh'].kurtosis()\n",
        "print(kurtosis)\n",
        "\n",
        "## Interpretation of kurtosis values for 'Sweetwh':\n",
        "## High Kurtosis: Indicates a distribution with more potential outliers or heavier tails\n",
        "## Low Kurtosis: Indicates a distribution with fewer potential outliers or lighter tails"
      ]
    },
    {
      "cell_type": "markdown",
      "metadata": {
        "id": "FEWekrJoGHSN"
      },
      "source": [
        "**CONCLUSION:** Upon analysis of the visual representations (boxplot and histogram) and statistical calculations, it appears probable that the \"Sweetwh\" variable might contain outliers. To confirm the presence of outliers, we intend to perform outlier detection methods such as the Interquartile Range (IQR) method or consider a manual approach."
      ]
    },
    {
      "cell_type": "code",
      "execution_count": null,
      "metadata": {
        "colab": {
          "base_uri": "https://localhost:8080/"
        },
        "id": "B0qKI2pIGNjC",
        "outputId": "1c841c3e-ab8f-4123-f264-14bd3a71c79e"
      },
      "outputs": [],
      "source": [
        "## IQR for analyzing outliers in the \"Sweetwh\" variable\n",
        "## Define the 1st and 3rd quartiles\n",
        "Q1 = df_prep['Sweetwh'].quantile(0.25)\n",
        "Q3 = df_prep['Sweetwh'].quantile(0.75)\n",
        "IQR = Q3 - Q1\n",
        "\n",
        "## Define the lower and upper bounds\n",
        "lower_bound = Q1 - 1.5 * IQR\n",
        "upper_bound = Q3 + 1.5 * IQR\n",
        "\n",
        "## Calculate the total number of rows affected\n",
        "Sweetwh_outliers_count = df_prep[(df_prep['Sweetwh'] < lower_bound) | (df_prep['Sweetwh'] > upper_bound)].shape[0]\n",
        "Sweetwh_outliers_count"
      ]
    },
    {
      "cell_type": "code",
      "execution_count": null,
      "metadata": {
        "colab": {
          "base_uri": "https://localhost:8080/"
        },
        "id": "VCxiK_SwGWDB",
        "outputId": "fe6ead48-334f-4679-dd00-1c11e22b5d57"
      },
      "outputs": [],
      "source": [
        "## Analyzing outliers in the \"Sweetwh\" variable\n",
        "## By observing the boxplot, it appears that most outliers are greater than 22\n",
        "## Counting the total number of values greater than 22\n",
        "Sweetwh_values_greater_22 = df_prep.loc[df_prep['Sweetwh'] > 22]\n",
        "print(len(Sweetwh_values_greater_22))"
      ]
    },
    {
      "cell_type": "markdown",
      "metadata": {
        "id": "-C3i56ZRJUuN"
      },
      "source": [
        "**CONCLUSION:** After confirming outliers using the interquartile range method and manual filtering, we chose not to remove them as they were prevalent and represented more than 3%. Since eliminating these outliers would lead to a significant loss of data, so we retained them for the current analysis."
      ]
    },
    {
      "cell_type": "markdown",
      "metadata": {
        "id": "YOeempRq4gX8"
      },
      "source": [
        "### 2.7.16 - Dessert Wine"
      ]
    },
    {
      "cell_type": "code",
      "execution_count": null,
      "metadata": {
        "colab": {
          "base_uri": "https://localhost:8080/",
          "height": 0
        },
        "id": "k0WrxPDM4jfF",
        "outputId": "181952a0-cd4f-4282-9ac4-ab5af858b5fb"
      },
      "outputs": [],
      "source": [
        "## Displaying a boxplot to visualize the distribution of 'Dessert'\n",
        "sns.boxplot(x=df_prep['Dessert'])\n",
        "plt.grid(False)\n",
        "plt.show()"
      ]
    },
    {
      "cell_type": "code",
      "execution_count": null,
      "metadata": {
        "colab": {
          "base_uri": "https://localhost:8080/",
          "height": 0
        },
        "id": "qS5atOtOGgPe",
        "outputId": "9d35a55d-491a-426f-86a4-11f218bf1040"
      },
      "outputs": [],
      "source": [
        "## Displaying a histogram to visualize the distribution of 'Dessert'\n",
        "df_prep['Dessert'].hist(grid=False)"
      ]
    },
    {
      "cell_type": "code",
      "execution_count": null,
      "metadata": {
        "colab": {
          "base_uri": "https://localhost:8080/"
        },
        "id": "vnei2TJ8Gh5a",
        "outputId": "7d109314-ee45-4daa-8bf0-3efbfc3e72c8"
      },
      "outputs": [],
      "source": [
        "## Calculate the skewness of the 'Dessert' column\n",
        "skewness = df_prep['Dessert'].skew()\n",
        "print(skewness)\n",
        "\n",
        "## Interpretation of skewness values for 'Dessert':\n",
        "## Skewness = 0: Indicates a perfectly symmetrical distribution\n",
        "## Skewness > 0: Indicates an asymmetrical distribution extending towards positive values\n",
        "## Skewness < 0: Indicates an asymmetrical distribution extending towards negative values"
      ]
    },
    {
      "cell_type": "code",
      "execution_count": null,
      "metadata": {
        "colab": {
          "base_uri": "https://localhost:8080/"
        },
        "id": "1aJ2HB3vGj-Z",
        "outputId": "61f2e577-7ddc-4496-c0e8-59a8a04ead1c"
      },
      "outputs": [],
      "source": [
        "## Calculate the kurtosis of the 'Dessert' column\n",
        "kurtosis = df_prep['Dessert'].kurtosis()\n",
        "print(kurtosis)\n",
        "\n",
        "## Interpretation of kurtosis values for 'Dessert':\n",
        "## High Kurtosis: Indicates a distribution with more potential outliers or heavier tails\n",
        "## Low Kurtosis: Indicates a distribution with fewer potential outliers or lighter tails"
      ]
    },
    {
      "cell_type": "markdown",
      "metadata": {
        "id": "rA4JMEfhGnPl"
      },
      "source": [
        "**CONCLUSION:** Upon analysis of the visual representations (boxplot and histogram) and statistical calculations, it appears probable that the \"Dessert\" variable might contain outliers. To confirm the presence of outliers, we intend to perform outlier detection methods such as the Interquartile Range (IQR) method or consider a manual approach."
      ]
    },
    {
      "cell_type": "code",
      "execution_count": null,
      "metadata": {
        "colab": {
          "base_uri": "https://localhost:8080/"
        },
        "id": "HsfrTftVGlPp",
        "outputId": "1af302d7-a464-444a-8a05-0d4f57846596"
      },
      "outputs": [],
      "source": [
        "## IQR method to identify outliers in the \"Dessert\" variable\n",
        "## Calculate the 1st (Q1) and 3rd (Q3) quartiles\n",
        "Q1 = df_prep['Dessert'].quantile(0.25)\n",
        "Q3 = df_prep['Dessert'].quantile(0.75)\n",
        "IQR = Q3 - Q1\n",
        "\n",
        "## Define the lower and upper bounds using the IQR\n",
        "lower_bound = Q1 - 1.5 * IQR\n",
        "upper_bound = Q3 + 1.5 * IQR\n",
        "\n",
        "## Determine the number of rows affected by outliers\n",
        "Dessert_outliers_count = df_prep[(df_prep['Dessert'] < lower_bound) | (df_prep['Dessert'] > upper_bound)].shape[0]\n",
        "Dessert_outliers_count"
      ]
    },
    {
      "cell_type": "code",
      "execution_count": null,
      "metadata": {
        "colab": {
          "base_uri": "https://localhost:8080/"
        },
        "id": "R3Ae3kkgG0xb",
        "outputId": "d70ce5e9-157a-4a81-a1ef-1d5b79753a49"
      },
      "outputs": [],
      "source": [
        "## Analyzing outliers in the 'Dessert' variable\n",
        "## By observing the boxplot, it appears that most outliers are greater than 19\n",
        "## Counting the total number of values greater than 19\n",
        "Dessert_values_greater_19 = df_prep.loc[df_prep['Dessert'] > 19]\n",
        "print(len(Dessert_values_greater_19))"
      ]
    },
    {
      "cell_type": "markdown",
      "metadata": {
        "id": "WUt6hlGmJ9Ui"
      },
      "source": [
        "**CONCLUSION:** After confirming outliers using the interquartile range method and manual filtering, we chose not to remove them as they were prevalent and represented more than 3%. Since eliminating these outliers would lead to a significant loss of data, so we retained them for the current analysis."
      ]
    },
    {
      "cell_type": "markdown",
      "metadata": {
        "id": "ORalhuPv4kA0"
      },
      "source": [
        "### 2.7.17 - Exotic Wine"
      ]
    },
    {
      "cell_type": "code",
      "execution_count": null,
      "metadata": {
        "colab": {
          "base_uri": "https://localhost:8080/",
          "height": 0
        },
        "id": "WJt6vAzj4nE3",
        "outputId": "9736a112-4bc8-40f0-ab5a-7c23c0db7bfa"
      },
      "outputs": [],
      "source": [
        "## Displaying a boxplot to visualize the distribution of 'Exotic'\n",
        "sns.boxplot(x=df_prep['Exotic'])\n",
        "plt.grid(False)\n",
        "plt.show()"
      ]
    },
    {
      "cell_type": "code",
      "execution_count": null,
      "metadata": {
        "colab": {
          "base_uri": "https://localhost:8080/",
          "height": 0
        },
        "id": "_YD0-hL5HHYT",
        "outputId": "16c0e705-7521-4098-9d72-1c26606d876a"
      },
      "outputs": [],
      "source": [
        "## Displaying a histogram to visualize the distribution of 'Exotic'\n",
        "df_prep['Exotic'].hist(grid=False)"
      ]
    },
    {
      "cell_type": "code",
      "execution_count": null,
      "metadata": {
        "colab": {
          "base_uri": "https://localhost:8080/"
        },
        "id": "y3PO8KRvHMHA",
        "outputId": "ee756302-0848-4ca0-99e2-50c264e8a9dc"
      },
      "outputs": [],
      "source": [
        "## Calculate the skewness of the 'Exotic' column\n",
        "skewness = df_prep['Exotic'].skew()\n",
        "print(skewness)\n",
        "\n",
        "## Interpretation of skewness values for 'Exotic':\n",
        "## Skewness = 0: Indicates a perfectly symmetrical distribution\n",
        "## Skewness > 0: Indicates an asymmetrical distribution extending towards positive values\n",
        "## Skewness < 0: Indicates an asymmetrical distribution extending towards negative values"
      ]
    },
    {
      "cell_type": "code",
      "execution_count": null,
      "metadata": {
        "colab": {
          "base_uri": "https://localhost:8080/"
        },
        "id": "RuDv2iGLHOYf",
        "outputId": "047bf9f0-e774-4d91-ac69-1545d67732be"
      },
      "outputs": [],
      "source": [
        "## Calculate the kurtosis of the 'Exotic' column\n",
        "kurtosis = df_prep['Exotic'].kurtosis()\n",
        "print(kurtosis)\n",
        "\n",
        "## Interpretation of kurtosis values for 'Exotic':\n",
        "## High Kurtosis: Indicates a distribution with more potential outliers or heavier tails\n",
        "## Low Kurtosis: Indicates a distribution with fewer potential outliers or lighter tails"
      ]
    },
    {
      "cell_type": "markdown",
      "metadata": {
        "id": "GsB1fldxHRjY"
      },
      "source": [
        "**CONCLUSION:** Upon analysis of the visual representations (boxplot and histogram) and statistical calculations, it appears probable that the 'Exotic' variable might contain outliers. To confirm the presence of outliers, we intend to perform outlier detection methods such as the Interquartile Range (IQR) method or consider a manual approach."
      ]
    },
    {
      "cell_type": "code",
      "execution_count": null,
      "metadata": {
        "colab": {
          "base_uri": "https://localhost:8080/"
        },
        "id": "sCaHmGbkHSWX",
        "outputId": "21f02f23-333c-4be6-d74c-a94ee0c1b09d"
      },
      "outputs": [],
      "source": [
        "#3 IQR method for outlier detection in the 'Exotic' variable\n",
        "## Calculating the 1st and 3rd quartiles\n",
        "Q1 = df_prep['Exotic'].quantile(0.25)\n",
        "Q3 = df_prep['Exotic'].quantile(0.75)\n",
        "IQR = Q3 - Q1\n",
        "\n",
        "## Establishing the lower and upper bounds for outliers\n",
        "lower_bound = Q1 - 1.5 * IQR\n",
        "upper_bound = Q3 + 1.5 * IQR\n",
        "\n",
        "## Counting the number of outlier rows\n",
        "Exotic_outliers_count = df_prep[(df_prep['Exotic'] < lower_bound) | (df_prep['Exotic'] > upper_bound)].shape[0]\n",
        "Exotic_outliers_count"
      ]
    },
    {
      "cell_type": "code",
      "execution_count": null,
      "metadata": {
        "colab": {
          "base_uri": "https://localhost:8080/"
        },
        "id": "49wgToXjHdAB",
        "outputId": "a9747af6-82f9-406e-8e52-e89fc8ce2cf2"
      },
      "outputs": [],
      "source": [
        "## Identifying and counting values greater than 52 in the 'Exotic' variable\n",
        "Exotic_values_greater_52 = df_prep.loc[df_prep['Exotic'] > 52]\n",
        "print(len(Exotic_values_greater_52))"
      ]
    },
    {
      "cell_type": "markdown",
      "metadata": {
        "id": "abUM4KTxKBAG"
      },
      "source": [
        "**CONCLUSION:** After confirming outliers using the interquartile range method and manual filtering, we chose not to remove them as they were prevalent and represented more than 3%. Since eliminating these outliers would lead to a significant loss of data, so we retained them for the current analysis."
      ]
    },
    {
      "cell_type": "markdown",
      "metadata": {
        "id": "8LBcai7_4njj"
      },
      "source": [
        "### 2.7.18 - Web Purchase"
      ]
    },
    {
      "cell_type": "code",
      "execution_count": null,
      "metadata": {
        "colab": {
          "base_uri": "https://localhost:8080/",
          "height": 0
        },
        "id": "sMbv-H-64rrR",
        "outputId": "b21b6a42-fd5f-4c9c-ffdb-2f2a49ac6725"
      },
      "outputs": [],
      "source": [
        "## Displaying a boxplot to visualize the distribution of 'WebPurchase'\n",
        "sns.boxplot(x=df_prep['WebPurchase'])\n",
        "plt.grid(False)\n",
        "plt.show()"
      ]
    },
    {
      "cell_type": "code",
      "execution_count": null,
      "metadata": {
        "colab": {
          "base_uri": "https://localhost:8080/",
          "height": 0
        },
        "id": "UHpre-kgHusz",
        "outputId": "3256414f-f540-4f28-94ac-5c76619f9ddc"
      },
      "outputs": [],
      "source": [
        "## Displaying a histogram to visualize the distribution of 'WebPurchase'\n",
        "df_prep['WebPurchase'].hist(grid=False)"
      ]
    },
    {
      "cell_type": "code",
      "execution_count": null,
      "metadata": {
        "colab": {
          "base_uri": "https://localhost:8080/"
        },
        "id": "9m2YDUagHuj_",
        "outputId": "5a4b7b99-f94a-44e8-9729-7bc0f1c38417"
      },
      "outputs": [],
      "source": [
        "## Calculate the skewness of the 'WebPurchase' column\n",
        "skewness = df_prep['WebPurchase'].skew()\n",
        "print(skewness)\n",
        "\n",
        "## Interpretation of skewness values for 'WebPurchase':\n",
        "## Skewness = 0: Indicates a perfectly symmetrical distribution\n",
        "## Skewness > 0: Indicates an asymmetrical distribution extending towards positive values\n",
        "## Skewness < 0: Indicates an asymmetrical distribution extending towards negative values"
      ]
    },
    {
      "cell_type": "code",
      "execution_count": null,
      "metadata": {
        "colab": {
          "base_uri": "https://localhost:8080/"
        },
        "id": "fMtMwFjAHxNm",
        "outputId": "35f4c6fd-036e-4835-ccdd-945dfa499ee9"
      },
      "outputs": [],
      "source": [
        "## Calculate the kurtosis of the 'WebPurchase' column\n",
        "kurtosis = df_prep['WebPurchase'].kurtosis()\n",
        "print(kurtosis)\n",
        "\n",
        "## Interpretation of kurtosis values for 'WebPurchase':\n",
        "## High Kurtosis: Indicates a distribution with more potential outliers or heavier tails\n",
        "## Low Kurtosis: Indicates a distribution with fewer potential outliers or lighter tails\n"
      ]
    },
    {
      "cell_type": "markdown",
      "metadata": {
        "id": "Czn-H5aTHzr5"
      },
      "source": [
        "**CONCLUSION**: By analyzing all the methods, we can conclude that the variable \"**Perdeal**\" does not have outliers."
      ]
    },
    {
      "cell_type": "markdown",
      "metadata": {
        "id": "mJaCITAR4r-s"
      },
      "source": [
        "### 2.7.19 - Web Visit"
      ]
    },
    {
      "cell_type": "code",
      "execution_count": null,
      "metadata": {
        "colab": {
          "base_uri": "https://localhost:8080/",
          "height": 0
        },
        "id": "8wYZ2Ngp4uw0",
        "outputId": "f6315ad4-463a-439c-c1bc-ba03e5fd08cc"
      },
      "outputs": [],
      "source": [
        "## Displaying a boxplot to visualize the distribution of 'WebVisit'\n",
        "sns.boxplot(x=df_prep['WebVisit'])\n",
        "plt.grid(False)\n",
        "plt.show()"
      ]
    },
    {
      "cell_type": "code",
      "execution_count": null,
      "metadata": {
        "colab": {
          "base_uri": "https://localhost:8080/",
          "height": 0
        },
        "id": "wIov4shSH3YH",
        "outputId": "9f0117d2-c242-4821-cd21-9818eb68bb4c"
      },
      "outputs": [],
      "source": [
        "## Displaying a histogram to visualize the distribution of 'WebVisit'\n",
        "df_prep['WebVisit'].hist(grid=False)"
      ]
    },
    {
      "cell_type": "code",
      "execution_count": null,
      "metadata": {
        "colab": {
          "base_uri": "https://localhost:8080/"
        },
        "id": "V-k3HoBcH44s",
        "outputId": "d503c47e-ffbe-41e2-fd03-a68347d7353d"
      },
      "outputs": [],
      "source": [
        "## Calculate the skewness of the 'WebVisit' column\n",
        "skewness = df_prep['WebVisit'].skew()\n",
        "print(skewness)\n",
        "\n",
        "## Interpretation of skewness values for 'WebVisit':\n",
        "## Skewness = 0: Indicates a perfectly symmetrical distribution\n",
        "## Skewness > 0: Indicates an asymmetrical distribution extending towards positive values\n",
        "## Skewness < 0: Indicates an asymmetrical distribution extending towards negative values"
      ]
    },
    {
      "cell_type": "code",
      "execution_count": null,
      "metadata": {
        "colab": {
          "base_uri": "https://localhost:8080/"
        },
        "id": "-ixu6xPBH6Pi",
        "outputId": "51088829-19b2-444f-c024-fba864f4ba2c"
      },
      "outputs": [],
      "source": [
        "## Calculate the kurtosis of the 'WebVisit' column\n",
        "kurtosis = df_prep['WebVisit'].kurtosis()\n",
        "print(kurtosis)\n",
        "\n",
        "## Interpretation of kurtosis values for 'WebVisit':\n",
        "## High Kurtosis: Indicates a distribution with more potential outliers or heavier tails\n",
        "## Low Kurtosis: Indicates a distribution with fewer potential outliers or lighter tails"
      ]
    },
    {
      "cell_type": "markdown",
      "metadata": {
        "id": "-kd_zvs2H8pO"
      },
      "source": [
        "**CONCLUSION**: By analyzing all the methods, we can conclude that the variable \"**Perdeal**\" does not have outliers."
      ]
    },
    {
      "cell_type": "markdown",
      "metadata": {
        "id": "gfbiO4_F4vUK"
      },
      "source": [
        "### 2.7.20 - Accessories"
      ]
    },
    {
      "cell_type": "code",
      "execution_count": null,
      "metadata": {
        "colab": {
          "base_uri": "https://localhost:8080/",
          "height": 0
        },
        "id": "QZ8-5Kyw4zDF",
        "outputId": "6a4c53d5-0ff5-4466-f549-f8696ad43280"
      },
      "outputs": [],
      "source": [
        "## Displaying a boxplot to visualize the distribution of 'Access'\n",
        "df_prep['Access'].hist(grid=False)"
      ]
    },
    {
      "cell_type": "code",
      "execution_count": null,
      "metadata": {
        "colab": {
          "base_uri": "https://localhost:8080/"
        },
        "id": "w6UPdsQjILly",
        "outputId": "ab3e93b2-2dc1-4707-9fdd-df723cb918fc"
      },
      "outputs": [],
      "source": [
        "## Calculate the skewness of the 'Access' column\n",
        "skewness = df_prep['Access'].skew()\n",
        "print(skewness)\n",
        "\n",
        "## Interpretation of skewness values for 'Access':\n",
        "## Skewness = 0: Indicates a perfectly symmetrical distribution\n",
        "## Skewness > 0: Indicates an asymmetrical distribution extending towards positive values\n",
        "## Skewness < 0: Indicates an asymmetrical distribution extending towards negative values"
      ]
    },
    {
      "cell_type": "code",
      "execution_count": null,
      "metadata": {
        "colab": {
          "base_uri": "https://localhost:8080/"
        },
        "id": "-xMXYXV9IPMZ",
        "outputId": "bf0fe7f9-f72d-44bd-e1cc-b0af78a6abfa"
      },
      "outputs": [],
      "source": [
        "## Calculate the kurtosis of the 'Access' column\n",
        "kurtosis = df_prep['Access'].kurtosis()\n",
        "print(kurtosis)\n",
        "\n",
        "## Interpretation of kurtosis values for 'Access':\n",
        "## High Kurtosis: Indicates a distribution with more potential outliers or heavier tails\n",
        "## Low Kurtosis: Indicates a distribution with fewer potential outliers or lighter tails"
      ]
    },
    {
      "cell_type": "markdown",
      "metadata": {
        "id": "hBa-FbTVIWUU"
      },
      "source": [
        "**CONCLUSION:** Upon analysis of the visual representations (boxplot and histogram) and statistical calculations, it appears probable that the Access variable might contain outliers. To confirm the presence of outliers, we intend to perform outlier detection methods such as the Interquartile Range (IQR) method or consider a manual approach.\n"
      ]
    },
    {
      "cell_type": "code",
      "execution_count": null,
      "metadata": {
        "colab": {
          "base_uri": "https://localhost:8080/"
        },
        "id": "BAr0uNuNLMMF",
        "outputId": "4b3aa0be-a31b-41f5-f614-3fbadecaf185"
      },
      "outputs": [],
      "source": [
        "df_prep['Access'].value_counts()"
      ]
    },
    {
      "cell_type": "code",
      "execution_count": null,
      "metadata": {
        "colab": {
          "base_uri": "https://localhost:8080/"
        },
        "id": "NzOIjysOe52B",
        "outputId": "7487e7c2-41be-42e8-d755-5334031f7840"
      },
      "outputs": [],
      "source": [
        "## Identifying and counting values greater than 2 in the Access variable\n",
        "Access_values_greater_2 = df_prep.loc[df_prep['Access'] > 2]\n",
        "print(len(Access_values_greater_2))"
      ]
    },
    {
      "cell_type": "markdown",
      "metadata": {
        "id": "be7KG2xXKEQU"
      },
      "source": [
        "**CONCLUSION:** After confirming outliers using the interquartile range method and manual filtering, we chose not to remove them since later we dropped this variable, and no longer would affect our data.\n"
      ]
    },
    {
      "cell_type": "markdown",
      "metadata": {
        "id": "ArG0HZSt6-sv"
      },
      "source": [
        "## 2.8 - Normalization"
      ]
    },
    {
      "cell_type": "code",
      "execution_count": 108,
      "metadata": {
        "id": "_CRPBOhx7BJC"
      },
      "outputs": [],
      "source": [
        "## Create a copy of the original dataset to preserve the initial data\n",
        "df_normalized = df.copy()"
      ]
    },
    {
      "cell_type": "code",
      "execution_count": 109,
      "metadata": {
        "id": "VSJSlCzz7IgN"
      },
      "outputs": [],
      "source": [
        "## Initialize the StandardScaler to normalize the data for better analysis\n",
        "scaler = StandardScaler()"
      ]
    },
    {
      "cell_type": "code",
      "execution_count": 110,
      "metadata": {
        "id": "RxVVT_1R7Lxw"
      },
      "outputs": [],
      "source": [
        "## Extract the subset of metric features to prepare them for normalization\n",
        "df_normalized_metric = df_normalized[metric_variables]"
      ]
    },
    {
      "cell_type": "code",
      "execution_count": null,
      "metadata": {
        "colab": {
          "base_uri": "https://localhost:8080/",
          "height": 0
        },
        "id": "SaOK7n1P7OFq",
        "outputId": "e66a62fc-0813-48e3-dfc1-f4a5eec2d980"
      },
      "outputs": [],
      "source": [
        "## Apply StandardScaler to standardize the extracted metric features\n",
        "scaled_features = scaler.fit_transform(df_normalized_metric)\n",
        "\n",
        "## Update the original dataset with the normalized values for metric variables\n",
        "## Display or use the df_normalized dataframe with normalized metric variables for further analysis\n",
        "df_normalized[metric_variables] = scaled_features\n",
        "df_normalized"
      ]
    },
    {
      "cell_type": "code",
      "execution_count": null,
      "metadata": {
        "colab": {
          "base_uri": "https://localhost:8080/",
          "height": 0
        },
        "id": "etN-Lkwjm76p",
        "outputId": "8c752f94-4a79-442a-d760-217c833339f9"
      },
      "outputs": [],
      "source": [
        "## Generate descriptive statistics summarizing the central tendency, dispersion, and shape of the data in df_normalized\n",
        "df_normalized.describe()"
      ]
    },
    {
      "cell_type": "code",
      "execution_count": 113,
      "metadata": {
        "id": "cczKhsgo5dha"
      },
      "outputs": [],
      "source": [
        "## Create a new copy of the normalized dataset 'df_normalized' for further operations or analysis, stored in 'df'\n",
        "df = df_normalized.copy()"
      ]
    },
    {
      "cell_type": "markdown",
      "metadata": {
        "id": "Cul0v3M1UdLQ"
      },
      "source": [
        "## 2.9 - Redundancy & Correlations"
      ]
    },
    {
      "cell_type": "code",
      "execution_count": 123,
      "metadata": {
        "id": "VrWcZ0uiUlYr"
      },
      "outputs": [],
      "source": [
        "## Plot a heatmap illustrating the correlation matrix between specified metric variables in the DataFrame.\n",
        "\n",
        "def plot_corr_matrix(df, metric_variables, title=\"Correlation Matrix\", method=\"pearson\", figsize=(10,8)):\n",
        "\n",
        "  # Prepare figure\n",
        "  figsize = (10*2, 8*2)\n",
        "  fig = plt.figure(figsize=figsize)\n",
        "\n",
        "  ## Calculate the correlation matrix for the specified metric variables rounded to 2 decimal places\n",
        "  corr = np.round(df[metric_variables].corr(method=method), decimals=2)\n",
        "\n",
        "  ## Create an annotation matrix to selectively display highly correlated values (>|0.5|)\n",
        "  mask_annot = np.absolute(corr.values) >= 0.5\n",
        "  ## Use np.where() to conditionally fill matrix elements for annotation display\n",
        "  annot = np.where(mask_annot, corr.values, np.full(corr.shape,\"\")) # Try to understand what this np.where() does\n",
        "\n",
        "  ## Plot the heatmap representing the correlation matrix\n",
        "  sns.heatmap(data=corr, annot=annot, cmap=sns.diverging_palette(220, 10, as_cmap=True),\n",
        "              fmt='s', vmin=-1, vmax=1, center=0, square=True, linewidths=.5)\n",
        "\n",
        "  ## Adjust the layout for better visualization\n",
        "  fig.subplots_adjust(top=0.95)\n",
        "  fig.suptitle(title, fontsize=20)\n",
        "\n",
        "  ## Display the plot\n",
        "  plt.show()\n",
        "\n",
        "\n",
        "  return\n",
        "\n"
      ]
    },
    {
      "cell_type": "code",
      "execution_count": null,
      "metadata": {
        "colab": {
          "base_uri": "https://localhost:8080/",
          "height": 1000
        },
        "id": "W83tsr65WDTz",
        "outputId": "97deb6ae-f633-4552-dd4f-6690540cc3de"
      },
      "outputs": [],
      "source": [
        "## Assuming 'df' is your DataFrame and 'metric_variables' is a list of metric column names\n",
        "plot_corr_matrix(df, metric_variables)"
      ]
    },
    {
      "cell_type": "markdown",
      "metadata": {
        "id": "mvXBfnzSngq_"
      },
      "source": [
        "**CONCLUSION:**\n",
        "Dayswus appears to have no apparent relationship with the other variables.\n",
        "Education level (Educ) seems to exhibit no discernible relationship with the other variables.\n",
        "Recency doesn't seem to exhibit any evident correlation with the other variables.\n",
        "Freq, Monetary, and LTV display a notably strong correlation among themselves, suggesting redundancy where one of the variables could potentially be eliminated to avoid multicollinearity.\n",
        "Webvisit and Web Purchase exhibit a significant correlation; hence, eliminating one variable (Webvisit) could be considered due to its weaker correlation with the other variables.\n",
        "\n"
      ]
    },
    {
      "cell_type": "markdown",
      "metadata": {
        "id": "pcAFzzb3lK88"
      },
      "source": [
        "## 2.10 - DBScan"
      ]
    },
    {
      "cell_type": "code",
      "execution_count": 114,
      "metadata": {
        "id": "yb991jiNC2K5"
      },
      "outputs": [],
      "source": [
        "# Define the list of features for data mining analysis\n",
        "features = ['Age', 'Income', 'Freq',  'Recency',  'Monetary','LTV', 'Perdeal', 'WebPurchase','Dryred', 'Sweetred', 'Drywh', 'Sweetwh', 'Dessert']"
      ]
    },
    {
      "cell_type": "code",
      "execution_count": 115,
      "metadata": {
        "id": "Nm9lQ7wKlK9C"
      },
      "outputs": [],
      "source": [
        "def plot_kdist_graph(df, feats, n_neighbors=20):\n",
        "    \"\"\"\n",
        "    Plots the K-distance graph to determine the right epsilon (eps) value for DBSCAN clustering.\n",
        "\n",
        "    Parameters:\n",
        "    - df: DataFrame containing the data points.\n",
        "    - feats: List of feature columns to consider for distance calculation.\n",
        "    - n_neighbors: Number of nearest neighbors to consider for average distance calculation.\n",
        "\n",
        "    This function calculates the average distance to the n_neighbors for each data point\n",
        "    and plots the sorted distances to help identify an appropriate epsilon value for DBSCAN clustering.\n",
        "\n",
        "    Args:\n",
        "        df (DataFrame): The data frame containing the data points.\n",
        "        feats (list): List of feature columns to consider for distance calculation.\n",
        "        n_neighbors (int): Number of nearest neighbors to consider for average distance calculation.\n",
        "\n",
        "    Returns:\n",
        "        None\n",
        "    \"\"\"\n",
        "    neigh = NearestNeighbors(n_neighbors=n_neighbors)\n",
        "    neigh.fit(df[feats])\n",
        "    distances, _ = neigh.kneighbors(df[feats])\n",
        "\n",
        "    # We sort the average distances of the points and plot this\n",
        "    distances = np.sort(distances[:, -1])\n",
        "    plt.ylabel(\"%d-NN Distance\" % n_neighbors)\n",
        "    plt.xlabel(\"Points sorted by distance\")\n",
        "    plt.plot(distances)\n",
        "    plt.title(str(feats))\n",
        "    plt.show()"
      ]
    },
    {
      "cell_type": "code",
      "execution_count": null,
      "metadata": {
        "colab": {
          "base_uri": "https://localhost:8080/",
          "height": 480
        },
        "id": "0rQX1M_qlK9C",
        "outputId": "461fa27f-13ac-41d7-f9ad-046c870d099a"
      },
      "outputs": [],
      "source": [
        "## The \"Knee\" or the threshold before we get very large distances (y-axis) is at around 0.80 and 0.90\n",
        "plot_kdist_graph(df, features)"
      ]
    },
    {
      "cell_type": "code",
      "execution_count": null,
      "metadata": {
        "colab": {
          "base_uri": "https://localhost:8080/"
        },
        "id": "z9Nr2R8_lK9C",
        "outputId": "51f21ec6-105c-439a-cabe-02a39c50bccd"
      },
      "outputs": [],
      "source": [
        "## Create a DBSCAN clustering model with specified hyperparameters\n",
        "dbscan = DBSCAN(eps=1.9, min_samples=16, n_jobs=4)\n",
        "\n",
        "## Fit the DBSCAN model to the data and predict cluster labels\n",
        "dbscan_labels = dbscan.fit_predict(df[features])\n",
        "\n",
        "## Print information about the clustering results\n",
        "print(\"Points in cluster -1 are noise rows.\")\n",
        "print(\"Counter of cluster labels     :\", Counter(dbscan_labels))\n",
        "print(\"Percentage of noise rows      :\", round(100*Counter(dbscan_labels)[-1]/df.shape[0],2))"
      ]
    },
    {
      "cell_type": "code",
      "execution_count": 118,
      "metadata": {
        "id": "SOPzwNuNlK9C"
      },
      "outputs": [],
      "source": [
        "def split_noise_rows(df, feats, dbs_model):\n",
        "  ## Predict cluster labels using the provided DBSCAN model\n",
        "  dbscan_labels = dbs_model.fit_predict(df[feats])\n",
        "\n",
        "  ## Concatenate cluster labels with the original DataFrame\n",
        "  df_concat = pd.concat([df,\n",
        "                         pd.Series(dbscan_labels,\n",
        "                                   name='dbscan_labels',\n",
        "                                   index=df.index)],\n",
        "                            axis=1)\n",
        "\n",
        "  ## Create separate DataFrames for noise and non-noise rows\n",
        "  df_noise = df_concat[df_concat['dbscan_labels']==-1].copy()\n",
        "  df_nonoise = df_concat[df_concat['dbscan_labels']==0].copy()\n",
        "\n",
        "  return df_noise, df_nonoise, df_concat"
      ]
    },
    {
      "cell_type": "code",
      "execution_count": 119,
      "metadata": {
        "id": "2erVCVQMlK9C"
      },
      "outputs": [],
      "source": [
        "## Create a DBSCAN clustering model with previously tuned hyperparameters\n",
        "dbscan = DBSCAN(eps=1.9, min_samples=16, n_jobs=4)\n",
        "\n",
        "## Use the 'split_noise_rows' function to separate data into noise and non-noise rows\n",
        "df_noise, df_nonoise, df_combined_noise = split_noise_rows(df, features, dbscan)"
      ]
    },
    {
      "cell_type": "code",
      "execution_count": null,
      "metadata": {
        "colab": {
          "base_uri": "https://localhost:8080/"
        },
        "id": "CwSAnbDalK9D",
        "outputId": "653966c5-5037-4c23-9dbb-79b87e0883bc"
      },
      "outputs": [],
      "source": [
        "## Calculate and print the number and percentage of noise rows\n",
        "print(\"There are %d noise rows (%f pct)\" % (df_noise.shape[0], 100*df_noise.shape[0]/df_combined_noise.shape[0]))\n",
        "\n",
        "## Calculate and print the number and percentage of non-noise rows\n",
        "print(\"There are %d non-noise rows (%f pct)\" % (df_nonoise.shape[0], 100*df_nonoise.shape[0]/df_combined_noise.shape[0]))"
      ]
    },
    {
      "cell_type": "code",
      "execution_count": null,
      "metadata": {
        "colab": {
          "base_uri": "https://localhost:8080/"
        },
        "id": "lE56HFajlK9D",
        "outputId": "97f2401f-eaa7-474f-e3d4-ad65842f76a8"
      },
      "outputs": [],
      "source": [
        "## Check the shape of the 'df_combined_noise' dataframe\n",
        "print(df_combined_noise.shape)\n",
        "\n",
        "## Check the shape of the 'df' dataframe (formerly 'df_nonoise')\n",
        "print(df_nonoise.shape)\n",
        "\n",
        "## Check the shape of the 'df_noise' dataframe\n",
        "print(df_noise.shape)"
      ]
    },
    {
      "cell_type": "code",
      "execution_count": 122,
      "metadata": {
        "id": "VE5HZnPyI-qf"
      },
      "outputs": [],
      "source": [
        "df = df_nonoise.copy()"
      ]
    },
    {
      "cell_type": "markdown",
      "metadata": {
        "id": "kk5w73Phkcf8"
      },
      "source": [
        "# 3 - CLUSTERING"
      ]
    },
    {
      "cell_type": "code",
      "execution_count": 127,
      "metadata": {
        "id": "2Es4p2uAY4XV"
      },
      "outputs": [],
      "source": [
        "# Remove 'Dayswus', 'Educ', and 'WebVisit' based on the correlation matrix for demographic features\n",
        "demographic_features = ['Age', 'Income', 'Freq',  'Recency',  'Monetary','LTV', 'Perdeal', 'WebPurchase']\n",
        "df_dem = df[demographic_features].copy()\n",
        "\n",
        "# Remove 'Exotic' and 'Access' based on the correlation matrix for preference features\n",
        "preference_features = ['Dryred', 'Sweetred', 'Drywh', 'Sweetwh', 'Dessert']\n",
        "df_prf = df[preference_features].copy()"
      ]
    },
    {
      "cell_type": "markdown",
      "metadata": {
        "id": "VFTHOHeMYqLd"
      },
      "source": [
        "## 3.1 - Testing different clustering solutions"
      ]
    },
    {
      "cell_type": "code",
      "execution_count": 128,
      "metadata": {
        "id": "O-BGwO4YYqLj"
      },
      "outputs": [],
      "source": [
        "## Set up the KMeans clusterer\n",
        "kmeans = KMeans(\n",
        "    init='k-means++',\n",
        "    n_init=20,\n",
        "    random_state=42\n",
        ")\n",
        "\n",
        "# Set up the AgglomerativeClustering (Hierarchical clustering) clusterer\n",
        "hierarchical = AgglomerativeClustering(\n",
        "    metric='euclidean'\n",
        ")"
      ]
    },
    {
      "cell_type": "code",
      "execution_count": 129,
      "metadata": {
        "id": "yX7FkRgnYqLk"
      },
      "outputs": [],
      "source": [
        "def get_ss(df):\n",
        "    \"\"\"\n",
        "    Compute the Sum of Squares (SS) for each variable within a given dataset.\n",
        "\n",
        "    Parameters:\n",
        "    df (DataFrame): The input dataset.\n",
        "\n",
        "    Returns:\n",
        "    float: The computed sum of squares.\n",
        "    \"\"\"\n",
        "    # Compute the sum of squares for each variable\n",
        "    ss = np.sum(df.var() * (df.count() - 1))\n",
        "    return ss\n",
        "\n",
        "def r2(df, labels):\n",
        "    \"\"\"\n",
        "    Calculate the R-squared score for clustering evaluation.\n",
        "\n",
        "    Parameters:\n",
        "    df (DataFrame): The input dataset.\n",
        "    labels (array-like): Cluster labels assigned by a clustering algorithm.\n",
        "\n",
        "    Returns:\n",
        "    float: The computed R-squared score.\n",
        "    \"\"\"\n",
        "    ## Compute total sum of squares (SST) and within-cluster sum of squares (SSW)\n",
        "    sst = get_ss(df)\n",
        "    ssw = np.sum(df.groupby(labels).apply(get_ss))\n",
        "    return 1 - ssw/sst\n",
        "\n",
        "def get_r2_scores(df, clusterer, min_k=2, max_k=10):\n",
        "    \"\"\"\n",
        "    Compute R-squared scores for different numbers of clusters (k) using a clustering algorithm.\n",
        "\n",
        "    Parameters:\n",
        "    df (DataFrame): The input dataset.\n",
        "    clusterer : A clustering algorithm compatible with scikit-learn.\n",
        "    min_k (int): The minimum number of clusters to consider (default is 2).\n",
        "    max_k (int): The maximum number of clusters to consider (default is 10).\n",
        "\n",
        "    Returns:\n",
        "    dict: Dictionary with k as keys and corresponding R-squared scores as values.\n",
        "    \"\"\"\n",
        "    r2_clust = {}\n",
        "\n",
        "    ## Loop over different values of k and compute R-squared scores\n",
        "    for n in range(min_k, max_k):\n",
        "        clust = clone(clusterer).set_params(n_clusters=n)  ## Clone the clusterer with 'n_clusters' parameter set to 'n'\n",
        "        labels = clust.fit_predict(df)  ## Fit the clusterer and obtain labels\n",
        "        r2_clust[n] = r2(df, labels)  ## Calculate R-squared score for the current 'n_clusters'\n",
        "    return r2_clust"
      ]
    },
    {
      "cell_type": "code",
      "execution_count": 130,
      "metadata": {
        "id": "YMusY8ooYqLk"
      },
      "outputs": [],
      "source": [
        "def get_r2_df(df, feats, kmeans_model, hierar_model):\n",
        "\n",
        "  r2_scores = {}\n",
        "  r2_scores['kmeans'] = get_r2_scores(df[feats], kmeans_model)\n",
        "\n",
        "  for linkage in ['complete', 'average', 'single', 'ward']:\n",
        "      r2_scores[linkage] = get_r2_scores(\n",
        "          df[feats], hierar_model.set_params(linkage=linkage)\n",
        "      )\n",
        "\n",
        "  return pd.DataFrame(r2_scores)"
      ]
    },
    {
      "cell_type": "code",
      "execution_count": 131,
      "metadata": {
        "id": "fKxonqxOYqLk"
      },
      "outputs": [],
      "source": [
        "def plot_r2_scores(r2_scores,\n",
        "                   plot_title,\n",
        "                   legend_title=\"Cluster methods\"):\n",
        "    \"\"\"\n",
        "    Visualize R-squared scores for different cluster solutions based on demographic variables.\n",
        "\n",
        "    Parameters:\n",
        "    r2_scores (DataFrame): DataFrame containing R-squared scores for cluster solutions.\n",
        "    plot_title (str): Title for the plot.\n",
        "    legend_title (str): Title for the legend (default is 'Cluster methods').\n",
        "\n",
        "    Returns:\n",
        "    None\n",
        "    \"\"\"\n",
        "    ## Create a line plot to visualize R-squared scores for each cluster solution\n",
        "    pd.DataFrame(r2_scores).plot.line(figsize=(10,7))\n",
        "\n",
        "    ## Set plot title, legend title, and axis labels\n",
        "    plt.title(plot_title, fontsize=21)\n",
        "    plt.legend(title=legend_title, title_fontsize=11)\n",
        "    plt.xlabel(\"Number of clusters\", fontsize=13)\n",
        "    plt.ylabel(\"R² metric\", fontsize=13)\n",
        "    plt.show()"
      ]
    },
    {
      "cell_type": "markdown",
      "metadata": {
        "id": "VS_daf7BYqLk"
      },
      "source": [
        "#### 3.1.1 - Finding the optimal cluster on demographic variables"
      ]
    },
    {
      "cell_type": "code",
      "execution_count": null,
      "metadata": {
        "colab": {
          "base_uri": "https://localhost:8080/",
          "height": 300
        },
        "id": "35EpXuTyYqLk",
        "outputId": "d847a4ed-d985-4a5f-d6a5-93f33db6ccca"
      },
      "outputs": [],
      "source": [
        "## Compute R-squared scores for different clustering methods based on demographic features.\n",
        "## Note: The execution of get_r2_df function might take a few minutes.\n",
        "demog_r2_scores = get_r2_df(df, demographic_features, kmeans, hierarchical)\n",
        "\n",
        "## Output the computed R-squared scores for demographic clustering solutions.\n",
        "demog_r2_scores"
      ]
    },
    {
      "cell_type": "code",
      "execution_count": null,
      "metadata": {
        "colab": {
          "base_uri": "https://localhost:8080/",
          "height": 722
        },
        "id": "OFRQGkhrYqLk",
        "outputId": "a01db5d9-53f8-44b4-83a6-aa4ead1d1029"
      },
      "outputs": [],
      "source": [
        "## Plot R-squared scores for different clustering methods based on demographic features\n",
        "plot_r2_scores(demog_r2_scores, plot_title = \"Demographic Variables:\\nR² plot for various clustering methods\\n\")"
      ]
    },
    {
      "cell_type": "markdown",
      "metadata": {
        "id": "XQB7vCvNYqLk"
      },
      "source": [
        "#### 3.1.2 - Finding the optimal cluster on preference variables"
      ]
    },
    {
      "cell_type": "code",
      "execution_count": null,
      "metadata": {
        "colab": {
          "base_uri": "https://localhost:8080/",
          "height": 300
        },
        "id": "velkADuBYqLk",
        "outputId": "787a5b1b-48f2-424d-c3c6-edd12a51c37e"
      },
      "outputs": [],
      "source": [
        "## Compute R-squared scores for different clustering methods based on preference features.\n",
        "## Note: The execution of get_r2_df function might take a few minutes.\n",
        "pref_r2_scores = get_r2_df(df, preference_features, kmeans, hierarchical)\n",
        "\n",
        "## Output the computed R-squared scores for demographic clustering solutions.\n",
        "pref_r2_scores"
      ]
    },
    {
      "cell_type": "code",
      "execution_count": null,
      "metadata": {
        "colab": {
          "base_uri": "https://localhost:8080/",
          "height": 722
        },
        "id": "eqtzBA90YqLk",
        "outputId": "8562da47-18a8-489b-fd0a-8d2b1c37ec32"
      },
      "outputs": [],
      "source": [
        "## Plotting R-squared scores for various clustering methods using preference variables\n",
        "plot_r2_scores(pref_r2_scores,plot_title = \"Preference Variables:\\nR² plot for various clustering methods\\n\")"
      ]
    },
    {
      "cell_type": "markdown",
      "metadata": {
        "id": "y0l2tQmXjcY1"
      },
      "source": [
        "## 3.2 - Clustering in Depth"
      ]
    },
    {
      "cell_type": "code",
      "execution_count": 136,
      "metadata": {
        "id": "unKdPCYgaFaV"
      },
      "outputs": [],
      "source": [
        "def plot_dendrogram(df, demographic_features,\n",
        "                    linkage='ward', distance='euclidean',\n",
        "                    y_threshold = 75):\n",
        "\n",
        "    \"\"\"\n",
        "    Plot a dendrogram visualizing hierarchical clustering on demographic features.\n",
        "\n",
        "    Parameters:\n",
        "    df (DataFrame): The input dataset.\n",
        "    demographic_features (list): List of demographic features for clustering.\n",
        "    linkage (str): Linkage method for hierarchical clustering (default is 'ward').\n",
        "    distance (str): Distance metric for clustering (default is 'euclidean').\n",
        "    y_threshold (int): Threshold to color branches above the given height (default is 75).\n",
        "\n",
        "    Returns:\n",
        "    None\n",
        "    \"\"\"\n",
        "    ## Initialize AgglomerativeClustering with specified parameters\n",
        "    hclustering_dem = AgglomerativeClustering(linkage=linkage,\n",
        "                                    metric=distance,\n",
        "                                    distance_threshold=0,\n",
        "                                    n_clusters=None)\n",
        "\n",
        "    hclustering_dem.fit_predict(df[demographic_features])\n",
        "\n",
        "\n",
        "    ## Calculate counts of samples under each node\n",
        "    counts = np.zeros(hclustering_dem.children_.shape[0])\n",
        "    n_samples = len(hclustering_dem.labels_)\n",
        "\n",
        "    for i, merge in enumerate(hclustering_dem.children_):\n",
        "        current_count = 0\n",
        "        for child_idx in merge:\n",
        "            if child_idx < n_samples:\n",
        "                current_count += 1\n",
        "            else:\n",
        "                current_count += counts[child_idx - n_samples]\n",
        "        counts[i] = current_count\n",
        "\n",
        "\n",
        "\n",
        "    ## Create linkage matrix for dendrogram\n",
        "\n",
        "    linkage_matrix = np.column_stack(\n",
        "        [hclustering_dem.children_, hclustering_dem.distances_, counts]\n",
        "    ).astype(float)\n",
        "\n",
        "\n",
        "    ## Plot the dendrogram\n",
        "    sns.set()\n",
        "    fig = plt.figure(figsize=(11,5))\n",
        "\n",
        "    dendrogram(linkage_matrix,\n",
        "              truncate_mode='level',\n",
        "              p=5,\n",
        "              color_threshold=y_threshold,\n",
        "              above_threshold_color='k')\n",
        "\n",
        "    ## Plot threshold line\n",
        "    plt.hlines(y_threshold, 0, 1000, colors=\"r\", linestyles=\"dashed\")\n",
        "\n",
        "    ## Set title and axis labels\n",
        "    plt.title(f'Hierarchical Clustering - {linkage.title()}\\'s Dendrogram ', fontsize=15)\n",
        "    plt.xlabel('Number of points in node (or index of point if no parenthesis)')\n",
        "    plt.ylabel(f'{distance.title()} Distance', fontsize=13)\n",
        "    plt.show()"
      ]
    },
    {
      "cell_type": "code",
      "execution_count": 137,
      "metadata": {
        "id": "jjU8J8JIaKKK"
      },
      "outputs": [],
      "source": [
        "# FUNÇÃO PARA DEFINIR MÉDIAS POR LABEL\n",
        "def get_mean_bylabel(df, feats, label_name):\n",
        "    # Characterize clusters by computing means of specified features grouped by labels\n",
        "\n",
        "  return df[feats+[label_name]].groupby(label_name).mean()\n",
        "\n",
        "\n",
        "    ## Calculate means of specified features grouped by a given label.\n",
        "\n",
        "    ##Parameters:\n",
        "    ##df (DataFrame): The input dataset.\n",
        "    ##feats (list): List of features for which means are calculated.\n",
        "    ##label_name (str): The column name representing the labels.\n",
        "\n",
        "    ##Returns:\n",
        "    ##DataFrame: Mean values of specified features grouped by the label column.\n"
      ]
    },
    {
      "cell_type": "code",
      "execution_count": 138,
      "metadata": {
        "id": "lxn4y4mhaVo8"
      },
      "outputs": [],
      "source": [
        "def plot_inertia(df, feats, max_k=10):\n",
        "    \"\"\"\n",
        "    Plot the inertia (Sum of Squares within clusters) for different numbers of clusters using KMeans.\n",
        "\n",
        "    Parameters:\n",
        "    df (DataFrame): The input dataset.\n",
        "    feats (list): List of features used for clustering.\n",
        "    max_k (int): Maximum number of clusters to consider (default is 10).\n",
        "\n",
        "    Returns:\n",
        "    None\n",
        "    \"\"\"\n",
        "    ## Range of clusters to explore\n",
        "    range_clusters = range(1, max_k+1)\n",
        "\n",
        "    inertia = []\n",
        "    for n_clus in range_clusters:\n",
        "        ## Initialize KMeans with specified parameters and fit on the data\n",
        "        kmclustering_dem = KMeans(n_clusters=n_clus, init='k-means++', n_init=20, random_state=28)\n",
        "        kmclustering_dem.fit(df[feats])\n",
        "        inertia.append(kmclustering_dem.inertia_)\n",
        "\n",
        "\n",
        "    ## Plotting the inertia values\n",
        "    plt.figure(figsize=(9,5))\n",
        "    plt.plot(range_clusters, inertia)\n",
        "    plt.ylabel(\"Inertia: SSw\")\n",
        "    plt.xlabel(\"Number of clusters\")\n",
        "    plt.xticks(range_clusters)\n",
        "    plt.title(\"Inertia plot over clusters\", size=15)\n",
        "    plt.show()\n"
      ]
    },
    {
      "cell_type": "markdown",
      "metadata": {
        "id": "XlG2m6QBoMTD"
      },
      "source": [
        "### 3.2.1 - In depth Analysis (**Demographic** **Features**)"
      ]
    },
    {
      "cell_type": "markdown",
      "metadata": {
        "id": "osOCWbo0o2fF"
      },
      "source": [
        "#### 3.2.1.1 - Hierarchical Clustering"
      ]
    },
    {
      "cell_type": "code",
      "execution_count": null,
      "metadata": {
        "colab": {
          "base_uri": "https://localhost:8080/",
          "height": 505
        },
        "id": "g8hHUi_-kV9T",
        "outputId": "3cbbd911-df04-42ed-9163-876a1a8d0f41"
      },
      "outputs": [],
      "source": [
        "## Visualize a dendrogram for hierarchical clustering based on demographic features with a specified threshold for coloring branches above a certain height\n",
        "plot_dendrogram(df, demographic_features, y_threshold=100)"
      ]
    },
    {
      "cell_type": "code",
      "execution_count": 140,
      "metadata": {
        "id": "YDj94XowknZH"
      },
      "outputs": [],
      "source": [
        "## Implementing a 4-cluster solution obtained from dendrogram analysis\n",
        "linkage = 'ward'\n",
        "distance = 'euclidean'\n",
        "hc4_dem = AgglomerativeClustering(linkage=linkage, metric=distance, n_clusters=3)\n",
        "\n",
        "## Fit the AgglomerativeClustering model to demographic features (df_dem) and obtain cluster labels\n",
        "hc4_dem_labels = hc4_dem.fit_predict(df[demographic_features])"
      ]
    },
    {
      "cell_type": "code",
      "execution_count": 141,
      "metadata": {
        "id": "6WX_Hl0Kk2qz"
      },
      "outputs": [],
      "source": [
        "## Adding the obtained hierarchical clustering labels (4-cluster solution) to the DataFrame\n",
        "df = pd.concat((df, pd.Series(hc4_dem_labels,\n",
        "                                  name='hc_dem_labels',\n",
        "                                  index=df.index)),\n",
        "                        axis=1)"
      ]
    },
    {
      "cell_type": "code",
      "execution_count": null,
      "metadata": {
        "colab": {
          "base_uri": "https://localhost:8080/",
          "height": 174
        },
        "id": "TJLM40nRtf1h",
        "outputId": "56099f7b-5434-4b72-fe2c-1d4297ff0d0e"
      },
      "outputs": [],
      "source": [
        "## Calculate the mean values of demographic features grouped by hierarchical clustering labels\n",
        "df_hclustering_dem_final = get_mean_bylabel(df, demographic_features, 'hc_dem_labels')\n",
        "\n",
        "## Apply background gradient to the DataFrame for visual emphasis on feature-wise differences\n",
        "df_hclustering_dem_final.style.background_gradient(axis=0)"
      ]
    },
    {
      "cell_type": "markdown",
      "metadata": {
        "id": "gHpkCVlNo5qi"
      },
      "source": [
        "#### 3.2.1.2 - K-Means Clustering"
      ]
    },
    {
      "cell_type": "code",
      "execution_count": null,
      "metadata": {
        "colab": {
          "base_uri": "https://localhost:8080/",
          "height": 498
        },
        "id": "uZiCQFCQcfxf",
        "outputId": "c5eab30a-1659-47ae-805c-a55fd506c333"
      },
      "outputs": [],
      "source": [
        "## Plot the inertia (SSw) values for different numbers of clusters using KMeans to analyze clustering performance on demographic features\n",
        "plot_inertia(df, demographic_features)"
      ]
    },
    {
      "cell_type": "code",
      "execution_count": 144,
      "metadata": {
        "id": "oKJ-U71DdM07"
      },
      "outputs": [],
      "source": [
        "def plot_silhouette_score(df, demographic_features, max_k=10):\n",
        "    \"\"\"\n",
        "    Plot the average silhouette score for different numbers of clusters using KMeans.\n",
        "\n",
        "    Parameters:\n",
        "    df (DataFrame): The input dataset.\n",
        "    demographic_features (list): List of demographic features used for clustering.\n",
        "    max_k (int): Maximum number of clusters to consider (default is 10).\n",
        "\n",
        "    Returns:\n",
        "    None\n",
        "    \"\"\"\n",
        "    range_clusters = range(2, max_k+1)\n",
        "    ## Skip nclus == 1\n",
        "\n",
        "    ## Storing average silhouette metric\n",
        "    avg_silhouette = []\n",
        "    for nclus in range_clusters:\n",
        "        ## Initialize KMeans object with n_clusters value and random seed for reproducibility\n",
        "        kmclustering_dem = KMeans(n_clusters=nclus, init='k-means++', n_init=20, random_state=28)\n",
        "        cluster_labels = kmclustering_dem.fit_predict(df[demographic_features])\n",
        "\n",
        "        ## Compute silhouette_score for evaluating clustering quality\n",
        "        silhouette_avg = silhouette_score(df[demographic_features], cluster_labels)\n",
        "        avg_silhouette.append(silhouette_avg)\n",
        "        print(f\"For n_clusters = {nclus}, the average silhouette_score is : {silhouette_avg}\")\n",
        "\n",
        "    ## Plotting the average silhouette values\n",
        "    plt.figure(figsize=(9,5))\n",
        "    plt.plot(range_clusters, avg_silhouette)\n",
        "    plt.ylabel(\"Average silhouette\")\n",
        "    plt.xlabel(\"Number of clusters\")\n",
        "    plt.xticks(range_clusters)\n",
        "    plt.title(\"Average silhouette plot over clusters\", size=15)\n",
        "    plt.show()"
      ]
    },
    {
      "cell_type": "code",
      "execution_count": null,
      "metadata": {
        "colab": {
          "base_uri": "https://localhost:8080/",
          "height": 660
        },
        "id": "TzZIF4D8dgLA",
        "outputId": "f2d38db6-4f9d-42b6-ded5-d19b5da452f4"
      },
      "outputs": [],
      "source": [
        "## Plot the average silhouette scores to determine the optimal number of clusters\n",
        "plot_silhouette_score(df, demographic_features)"
      ]
    },
    {
      "cell_type": "code",
      "execution_count": null,
      "metadata": {
        "colab": {
          "base_uri": "https://localhost:8080/"
        },
        "id": "kQtshDJI35qr",
        "outputId": "288ecd89-8a3d-41e3-b86c-9c05064cd36c"
      },
      "outputs": [],
      "source": [
        "## Derive the final cluster solution using KMeans with 4 clusters\n",
        "number_clusters = 3\n",
        "kmclustering_dem = KMeans(n_clusters=number_clusters, init='k-means++', n_init=20, random_state=28)\n",
        "\n",
        "# Fit the KMeans model to demographic features and obtain cluster labels\n",
        "km_dem_labels = kmclustering_dem.fit_predict(df[demographic_features])\n",
        "\n",
        "# Display the resulting cluster labels\n",
        "km_dem_labels"
      ]
    },
    {
      "cell_type": "code",
      "execution_count": null,
      "metadata": {
        "colab": {
          "base_uri": "https://localhost:8080/",
          "height": 443
        },
        "id": "5rtBeFVc4ux0",
        "outputId": "378135b7-2ae6-451d-cd36-22bdd07e5473"
      },
      "outputs": [],
      "source": [
        "# Adding KMeans cluster labels (4 clusters) to the DataFrame\n",
        "df = pd.concat((df, pd.Series(km_dem_labels, name='km_dem_labels', index=df.index)),\n",
        "                        axis=1)\n",
        "\n",
        "# Display the updated DataFrame including KMeans cluster labels\n",
        "df"
      ]
    },
    {
      "cell_type": "code",
      "execution_count": null,
      "metadata": {
        "colab": {
          "base_uri": "https://localhost:8080/",
          "height": 174
        },
        "id": "i2K4YJY45MdS",
        "outputId": "f9754db9-723f-41d9-8e0f-08194de1ad23"
      },
      "outputs": [],
      "source": [
        "# Calculate the mean values of demographic features grouped by KMeans cluster labels\n",
        "df_kmeans_dem_means = get_mean_bylabel(df, demographic_features, 'km_dem_labels')\n",
        "\n",
        "# Apply background gradient to the DataFrame for visual emphasis on feature-wise differences\n",
        "df_kmeans_dem_means.style.background_gradient(axis=0)"
      ]
    },
    {
      "cell_type": "markdown",
      "metadata": {
        "id": "p4bt1zn5oi7C"
      },
      "source": [
        "### 3.2.2 - In depth Analysis (**Preference** **Features**)"
      ]
    },
    {
      "cell_type": "markdown",
      "metadata": {
        "id": "ds8lbOLlpWnM"
      },
      "source": [
        "#### 3.2.2.1 - Hierarchical Clustering"
      ]
    },
    {
      "cell_type": "code",
      "execution_count": null,
      "metadata": {
        "colab": {
          "base_uri": "https://localhost:8080/",
          "height": 505
        },
        "id": "p1bKQC1lzHO6",
        "outputId": "81abb0d5-464c-48fb-a20d-928dcf25887e"
      },
      "outputs": [],
      "source": [
        "## Visualize a dendrogram for hierarchical clustering based on preference features with a specified threshold for coloring branches above a certain height\n",
        "plot_dendrogram(df, preference_features, y_threshold=100)"
      ]
    },
    {
      "cell_type": "code",
      "execution_count": 150,
      "metadata": {
        "id": "9XRBDRoSzKfj"
      },
      "outputs": [],
      "source": [
        "## Implementing a 3-cluster solution using hierarchical clustering on preference features\n",
        "linkage = 'ward'\n",
        "distance = 'euclidean'\n",
        "hc_pref = AgglomerativeClustering(linkage=linkage, metric=distance, n_clusters=3)\n",
        "\n",
        "## Fit the AgglomerativeClustering model to preference features (df[preference_features])\n",
        "hc_pref_labels = hc_pref.fit_predict(df[preference_features])"
      ]
    },
    {
      "cell_type": "code",
      "execution_count": null,
      "metadata": {
        "colab": {
          "base_uri": "https://localhost:8080/",
          "height": 443
        },
        "id": "fSLHzr-2zMFK",
        "outputId": "6375908e-5067-46ab-d95f-7841aee9738c"
      },
      "outputs": [],
      "source": [
        "## Adding hierarchical clustering labels (3 clusters) based on preference features to the DataFrame\n",
        "df = pd.concat((df, pd.Series(hc_pref_labels,\n",
        "                                  name='hc_pref_labels',\n",
        "                                  index=df.index)),\n",
        "                        axis=1)\n",
        "\n",
        "## Display the updated DataFrame with hierarchical clustering labels\n",
        "df"
      ]
    },
    {
      "cell_type": "code",
      "execution_count": null,
      "metadata": {
        "colab": {
          "base_uri": "https://localhost:8080/",
          "height": 174
        },
        "id": "Mx41a3K0zOMI",
        "outputId": "70cc26a5-3f2c-43e7-b2a1-e09920437da6"
      },
      "outputs": [],
      "source": [
        "## Calculate the mean values of preference features grouped by hierarchical clustering labels\n",
        "df_hclustering_pref_final = get_mean_bylabel(df, preference_features, 'hc_pref_labels')\n",
        "\n",
        "# Apply background gradient to the DataFrame for visual emphasis on feature-wise differences\n",
        "df_hclustering_pref_final.style.background_gradient(axis=0)"
      ]
    },
    {
      "cell_type": "markdown",
      "metadata": {
        "id": "HFEyn0i_pblH"
      },
      "source": [
        "#### 3.2.2.2 - K-Means Clustering"
      ]
    },
    {
      "cell_type": "code",
      "execution_count": null,
      "metadata": {
        "colab": {
          "base_uri": "https://localhost:8080/"
        },
        "id": "IJYgqr1IpbMn",
        "outputId": "40f5196f-20bd-4f82-dba6-16d06bc1351f"
      },
      "outputs": [],
      "source": [
        "## Implement KMeans clustering with a better initialization method ('k-means++')\n",
        "## Using 20 different initializations for improved convergence\n",
        "## Setting random_state for result reproducibility\n",
        "kmclustering_pref = KMeans(n_clusters=3,\n",
        "                 init='k-means++',  ## notice different initialization algorithm\n",
        "                 n_init=20,         ## notice different value\n",
        "                 random_state=28)    ## why set random_state?\n",
        "\n",
        "## Fit the KMeans model to preference features and predict cluster labels\n",
        "kmclustering_pref.fit(df[preference_features])\n",
        "kmclustering_pref.predict(df[preference_features])"
      ]
    },
    {
      "cell_type": "code",
      "execution_count": null,
      "metadata": {
        "colab": {
          "base_uri": "https://localhost:8080/",
          "height": 498
        },
        "id": "5wGy2BSqqRU5",
        "outputId": "95509e63-3a6c-457e-8095-e32950ecd40f"
      },
      "outputs": [],
      "source": [
        "## Plotting inertia values for different numbers of clusters using KMeans to analyze clustering performance on preference features\n",
        "plot_inertia(df, preference_features)"
      ]
    },
    {
      "cell_type": "code",
      "execution_count": null,
      "metadata": {
        "colab": {
          "base_uri": "https://localhost:8080/",
          "height": 660
        },
        "id": "VtsLmPu_qrCP",
        "outputId": "3ddc85f6-d598-4b5d-ae69-1c9a9ece533c"
      },
      "outputs": [],
      "source": [
        "## Plot the average silhouette scores to assess clustering quality\n",
        "plot_silhouette_score(df, preference_features)"
      ]
    },
    {
      "cell_type": "code",
      "execution_count": null,
      "metadata": {
        "colab": {
          "base_uri": "https://localhost:8080/"
        },
        "id": "gSOpX_kgNn0P",
        "outputId": "72fc3b43-ef7f-466a-aea6-78104fb9aacc"
      },
      "outputs": [],
      "source": [
        "## Deriving the final cluster solution using KMeans with 3 clusters\n",
        "number_clusters = 3\n",
        "kmclustering_pref = KMeans(n_clusters=number_clusters, init='k-means++', n_init=20, random_state=28)\n",
        "\n",
        "## Fit the KMeans model to preference features and obtain cluster labels\n",
        "km_pref_labels = kmclustering_pref.fit_predict(df[preference_features])\n",
        "\n",
        "## Displaying the resulting cluster labels\n",
        "km_pref_labels"
      ]
    },
    {
      "cell_type": "code",
      "execution_count": null,
      "metadata": {
        "colab": {
          "base_uri": "https://localhost:8080/",
          "height": 443
        },
        "id": "XqQBF_DUN5gA",
        "outputId": "4cd6a10a-d450-4ddf-d163-b0e2f674a55a"
      },
      "outputs": [],
      "source": [
        "## Adding KMeans cluster labels (3 clusters) based on preference features to the DataFrame\n",
        "df = pd.concat((df, pd.Series(km_pref_labels, name='km_pref_labels', index=df.index)),\n",
        "                        axis=1)\n",
        "\n",
        "## Display the updated DataFrame with KMeans cluster labels\n",
        "df"
      ]
    },
    {
      "cell_type": "code",
      "execution_count": null,
      "metadata": {
        "colab": {
          "base_uri": "https://localhost:8080/",
          "height": 255
        },
        "id": "ppwlecOlfMrT",
        "outputId": "0cf34db5-3173-441d-d560-1c6682c6d752"
      },
      "outputs": [],
      "source": [
        "## Display the first few rows of the updated DataFrame 'df'\n",
        "df.head()"
      ]
    },
    {
      "cell_type": "code",
      "execution_count": null,
      "metadata": {
        "colab": {
          "base_uri": "https://localhost:8080/",
          "height": 174
        },
        "id": "0ZpljWBeN_b0",
        "outputId": "7c1b28ef-f540-40d1-bdd4-91feb0c2be68"
      },
      "outputs": [],
      "source": [
        "## Calculate the mean values of preference features grouped by KMeans cluster labels\n",
        "df_kmeans_pref_means = get_mean_bylabel(df, preference_features, 'km_pref_labels')\n",
        "\n",
        "## Apply background gradient to the DataFrame for visual emphasis on feature-wise differences\n",
        "df_kmeans_pref_means.style.background_gradient(axis=0)"
      ]
    },
    {
      "cell_type": "markdown",
      "metadata": {
        "id": "GXn8ms7ygDk0"
      },
      "source": [
        "## 3.3 - Merging Clusters"
      ]
    },
    {
      "cell_type": "code",
      "execution_count": null,
      "metadata": {
        "colab": {
          "base_uri": "https://localhost:8080/",
          "height": 174
        },
        "id": "_a5ElNWl5MGb",
        "outputId": "f932c5ec-2280-408b-b2c0-fa9d1f89e4a0"
      },
      "outputs": [],
      "source": [
        "## Create a cross-tabulation between 'km_dem_labels' and 'km_pref_labels' columns and apply background gradient for visual emphasis\n",
        "pd.crosstab(df['km_dem_labels'],df['km_pref_labels']).style.background_gradient(axis=0)"
      ]
    },
    {
      "cell_type": "code",
      "execution_count": null,
      "metadata": {
        "colab": {
          "base_uri": "https://localhost:8080/",
          "height": 174
        },
        "id": "EV2rzPVk8P3O",
        "outputId": "697e3d35-f2a7-4069-d80b-3eb9dfefc86b"
      },
      "outputs": [],
      "source": [
        "## Create a cross-tabulation between hierarchical clustering labels ('hc_dem_labels')  and KMeans clustering labels ('km_dem_labels') derived from demographic features\n",
        "## Apply background gradient for visual emphasis on the cross-tabulated counts\n",
        "pd.crosstab(df['hc_dem_labels'],df['km_dem_labels']).style.background_gradient(axis=0)"
      ]
    },
    {
      "cell_type": "code",
      "execution_count": null,
      "metadata": {
        "colab": {
          "base_uri": "https://localhost:8080/",
          "height": 174
        },
        "id": "SByy_BfT8W9C",
        "outputId": "55b1ba26-0517-403e-ead4-89241144838e"
      },
      "outputs": [],
      "source": [
        "## Create a cross-tabulation between hierarchical clustering labels ('hc_pref_labels') and KMeans clustering labels ('km_pref_labels') derived from preference features\n",
        "## Apply background gradient for enhanced visualization of the cross-tabulated counts\n",
        "pd.crosstab(df['hc_pref_labels'],df['km_pref_labels']).style.background_gradient(axis=0)"
      ]
    },
    {
      "cell_type": "markdown",
      "metadata": {
        "id": "DhMSEFy-pgt8"
      },
      "source": [
        "### 3.3.1 - Merging Optimal solutions using Hierarchical\n"
      ]
    },
    {
      "cell_type": "code",
      "execution_count": 163,
      "metadata": {
        "id": "IqPKoh-SKOb0"
      },
      "outputs": [],
      "source": [
        "## Map combinations of two labels to their merged cluster label\n",
        "def hc_merge_mapper(df, label1, label2, feats, merged_label, n_clusters=1):\n",
        "    \"\"\"\n",
        "    Maps combinations of two labels to their merged cluster label.\n",
        "\n",
        "    Args:\n",
        "    - df: DataFrame containing the data.\n",
        "    - label1: First label for mapping.\n",
        "    - label2: Second label for mapping.\n",
        "    - feats: List of features for clustering.\n",
        "    - merged_label: New label for merged clusters.\n",
        "    - n_clusters: Number of clusters for re-running Hierarchical clustering.\n",
        "\n",
        "    Returns:\n",
        "    - df_: DataFrame with merged cluster labels.\n",
        "    - df_centroids: DataFrame with centroids of concatenated cluster labels.\n",
        "    \"\"\"\n",
        "\n",
        "    df_ = df.copy()\n",
        "\n",
        "    ## Centroids of the concatenated cluster labels\n",
        "    df_centroids = df_.groupby([label1, label2])[feats].mean()\n",
        "\n",
        "    ## Re-run Hierarchical clustering based on the specified number of clusters\n",
        "    hclust = AgglomerativeClustering(\n",
        "        linkage='ward',\n",
        "        metric='euclidean',\n",
        "        n_clusters=n_clusters\n",
        "    )\n",
        "    hclust_labels = hclust.fit_predict(df_centroids)\n",
        "    df_centroids[merged_label] = hclust_labels\n",
        "\n",
        "    ## Create a dictionary for cluster mapping\n",
        "    cluster_mapper = df_centroids[merged_label].to_dict()\n",
        "\n",
        "    ## Map clusters from centroids to the observations in the DataFrame\n",
        "    df_[merged_label] = df_.apply(\n",
        "        lambda row: cluster_mapper[\n",
        "            (row[label1], row[label2])\n",
        "        ], axis=1\n",
        "    )\n",
        "\n",
        "    return df_, df_centroids\n"
      ]
    },
    {
      "cell_type": "code",
      "execution_count": null,
      "metadata": {
        "colab": {
          "base_uri": "https://localhost:8080/"
        },
        "id": "nBfMZ7kBgEb0",
        "outputId": "9c53a770-2474-4f24-f8e5-9453f3bc41b9"
      },
      "outputs": [],
      "source": [
        "## Assuming km_pref_labels is an array containing KMeans cluster labels\n",
        "km_pref_labels\n",
        "## Display unique cluster labels and their respective counts\n",
        "np.unique(km_pref_labels, return_counts=True)"
      ]
    },
    {
      "cell_type": "markdown",
      "metadata": {
        "id": "Eah69LQRpix8"
      },
      "source": [
        "### 3.3.2 - Merging K-Means Solution using Hierarchical clustering"
      ]
    },
    {
      "cell_type": "code",
      "execution_count": null,
      "metadata": {
        "colab": {
          "base_uri": "https://localhost:8080/",
          "height": 382
        },
        "id": "1Rn10F6uGJ6G",
        "outputId": "4c45530c-68b0-48b6-e466-b329ee697476"
      },
      "outputs": [],
      "source": [
        "## Assuming 'metric_variables' contains the list of metric columns\n",
        "df_hc_centroids = df.groupby(['km_dem_labels', 'km_pref_labels'])[metric_variables].mean()\n",
        "\n",
        "## Display the DataFrame with mean values for each combination of 'km_dem_labels' and 'km_pref_labels'\n",
        "df_hc_centroids"
      ]
    },
    {
      "cell_type": "code",
      "execution_count": null,
      "metadata": {
        "colab": {
          "base_uri": "https://localhost:8080/",
          "height": 501
        },
        "id": "c5wryHTLbf7i",
        "outputId": "5088a7b4-00f9-404a-8b2d-43335ec736ae"
      },
      "outputs": [],
      "source": [
        "## Plot a dendrogram using the centroid data from hierarchical clustering to visually assess cluster formations.\n",
        "plot_dendrogram(df_hc_centroids, metric_variables, y_threshold=5.2)"
      ]
    },
    {
      "cell_type": "code",
      "execution_count": 167,
      "metadata": {
        "id": "eQ4zAaR7FJWH"
      },
      "outputs": [],
      "source": [
        "## Apply hierarchical clustering to 'df' using K-means labels and metric variables, creating two new DataFrames: 'df_hc_merged' (with cluster labels) and 'df_hc_centroids' (with cluster centroids), using 3 clusters.\n",
        "df_hc_merged, df_hc_centroids = hc_merge_mapper(df,'km_dem_labels','km_pref_labels', metric_variables, 'hc_merged_labels', 3)"
      ]
    },
    {
      "cell_type": "code",
      "execution_count": null,
      "metadata": {
        "colab": {
          "base_uri": "https://localhost:8080/"
        },
        "id": "oyOLNwiUFKpj",
        "outputId": "66dc85d9-fae5-48d6-f77b-2712c683cec6"
      },
      "outputs": [],
      "source": [
        "## Count the number of occurrences for each cluster label in the 'hc_merged_labels' column of the 'df_hc_merged' DataFrame.\n",
        "df_hc_merged['hc_merged_labels'].value_counts()"
      ]
    },
    {
      "cell_type": "code",
      "execution_count": 169,
      "metadata": {
        "id": "5CATTxalFb3D"
      },
      "outputs": [],
      "source": [
        "## Create a copy of the 'df_hc_merged' DataFrame and store it in a new DataFrame named 'df'.\n",
        "df = df_hc_merged.copy()"
      ]
    },
    {
      "cell_type": "code",
      "execution_count": null,
      "metadata": {
        "colab": {
          "base_uri": "https://localhost:8080/"
        },
        "id": "BgMlijdKhaG6",
        "outputId": "e4598e72-ee86-49b2-e64f-353882045f04"
      },
      "outputs": [],
      "source": [
        "## Access the 'hc_merged_labels' column from the 'df_hc_merged' DataFrame, which contains cluster labels from the merged solution.\n",
        "df_hc_merged['hc_merged_labels']\n",
        "\n",
        "## Use numpy's 'unique' function to find and count the unique values in the 'hc_merged_labels' column, returning both the unique labels and their counts.\n",
        "np.unique(df_hc_merged['hc_merged_labels'], return_counts=True)"
      ]
    },
    {
      "cell_type": "code",
      "execution_count": 171,
      "metadata": {
        "id": "MW52hGCXGOJc"
      },
      "outputs": [],
      "source": [
        "def cluster_profiles(df,\n",
        "                     label_columns,\n",
        "                     figsize,\n",
        "                     compar_titles=None,\n",
        "                     colors='Set1'):\n",
        "    \"\"\"\n",
        "    Pass df with labels columns of one or multiple clustering labels.\n",
        "    Then specify this label columns to perform the cluster profile according to them.\n",
        "    \"\"\"\n",
        "    if compar_titles == None:\n",
        "        compar_titles = [\"\"]*len(label_columns)\n",
        "\n",
        "    fig, axes = plt.subplots(nrows=len(label_columns), ncols=2,\n",
        "                             figsize=figsize, squeeze=False)\n",
        "    for ax, label, titl in zip(axes, label_columns, compar_titles):\n",
        "\n",
        "        # Filtering df\n",
        "        drop_cols = [i for i in label_columns if i!=label]\n",
        "        dfax = df.drop(drop_cols, axis=1)\n",
        "\n",
        "        # Getting the cluster centroids and counts\n",
        "        centroids = dfax.groupby(by=label, as_index=False).mean()\n",
        "        counts = dfax.groupby(by=label, as_index=False).count().iloc[:,[0,1]]\n",
        "        counts.columns = [label, \"counts\"]\n",
        "\n",
        "        # Setting Data\n",
        "        pd.plotting.parallel_coordinates(centroids, label,\n",
        "                                         color=sns.color_palette(palette=colors), ax=ax[0])\n",
        "        sns.barplot(x=label, y=\"counts\", data=counts, ax=ax[1],\n",
        "                    palette=sns.color_palette(palette=colors))\n",
        "\n",
        "        #Setting Layout\n",
        "        handles, _ = ax[0].get_legend_handles_labels()\n",
        "        cluster_labels = [\"Cluster {}\".format(i) for i in range(len(handles))]\n",
        "        ax[0].annotate(text=titl, xy=(0.95,1.1), xycoords='axes fraction', fontsize=13, fontweight = 'heavy')\n",
        "        ax[0].legend(handles, cluster_labels) # Adaptable to number of clusters\n",
        "        ax[0].axhline(color=\"black\", linestyle=\"--\")\n",
        "        ax[0].set_title(\"Cluster Means - {} Clusters\".format(len(handles)), fontsize=13)\n",
        "        ax[0].set_xticklabels(ax[0].get_xticklabels(), rotation=-20)\n",
        "        ax[0].legend(loc='center left', bbox_to_anchor=(1, 0.5))\n",
        "        ax[1].set_xticklabels(cluster_labels)\n",
        "        ax[1].set_xlabel(\"\")\n",
        "        ax[1].set_ylabel(\"Absolute Frequency\")\n",
        "        ax[1].set_title(\"Cluster Sizes - {} Clusters\".format(len(handles)), fontsize=13)\n",
        "\n",
        "    plt.subplots_adjust(hspace=0.4, top=0.90)\n",
        "    plt.suptitle(\"Cluster Simple Profilling\", fontsize=23)\n",
        "    plt.show()"
      ]
    },
    {
      "cell_type": "code",
      "execution_count": 172,
      "metadata": {
        "id": "f1OssstMGWBn"
      },
      "outputs": [],
      "source": [
        "## Name representing the merged cluster labels column\n",
        "merged_label_name = 'hc_merged_labels'\n",
        "\n",
        "## List containing different cluster label names including merged labels\n",
        "labels_list = ['km_dem_labels','km_pref_labels', merged_label_name]\n",
        "\n",
        "\n",
        "## These labels can refer to distinct cluster labels or identifiers within the dataset.\n",
        "##'merged_label_name' holds the name assigned to the merged clusters,\n",
        "## while 'labels_list' encompasses a collection of different cluster labels for reference.\n"
      ]
    },
    {
      "cell_type": "code",
      "execution_count": null,
      "metadata": {
        "colab": {
          "base_uri": "https://localhost:8080/",
          "height": 453
        },
        "id": "o3hf5JD1GjtE",
        "outputId": "22afd0cd-d38c-43a5-e63a-7d8474565507"
      },
      "outputs": [],
      "source": [
        "# Profilling each cluster (only merged)\n",
        "merged_label_list = [merged_label_name]\n",
        "sns.set(style=\"white\")\n",
        "cluster_profiles(\n",
        "    df = df_hc_merged[metric_variables + merged_label_list],\n",
        "    label_columns = merged_label_list,\n",
        "    figsize = (27, 8),\n",
        "    compar_titles = [\"Merged clusters profiling\"],\n",
        "    colors='tab10'\n",
        ")\n"
      ]
    },
    {
      "cell_type": "code",
      "execution_count": null,
      "metadata": {
        "colab": {
          "base_uri": "https://localhost:8080/",
          "height": 663
        },
        "id": "HPhAsGiYH5iG",
        "outputId": "0d8067fd-a8e7-4684-aaca-ad99f90b1ac6"
      },
      "outputs": [],
      "source": [
        "# Profilling each cluster (product, behavior, merged)\n",
        "sns.set(style=\"white\")\n",
        "cluster_profiles(\n",
        "    df = df_hc_merged[metric_variables + labels_list],\n",
        "    label_columns = labels_list,\n",
        "    figsize = (28, 13),\n",
        "    compar_titles = [\"Demographic clustering\", \"Preference clustering\", \"Merged clusters\"],\n",
        "    colors='Set2'\n",
        ")"
      ]
    },
    {
      "cell_type": "markdown",
      "metadata": {
        "id": "TgcusJHAbnkr"
      },
      "source": [
        "###3.3.3 - TSNE"
      ]
    },
    {
      "cell_type": "code",
      "execution_count": 175,
      "metadata": {
        "id": "NfiacMATbxfm"
      },
      "outputs": [],
      "source": [
        "def plot_tsne(df, feats, label,\n",
        "              cmap='tab10',\n",
        "              title=\"t-SNE Visualization of Clustering Solution\"):\n",
        "    \"\"\"\n",
        "    Creates a t-SNE plot to visualize the clustering solution derived from the given features.\n",
        "\n",
        "    Parameters:\n",
        "    - df: DataFrame containing the data\n",
        "    - feats: List of features used for t-SNE dimensionality reduction\n",
        "    - label: Column name representing cluster labels\n",
        "    - cmap: Color map for clusters (default: 'tab10')\n",
        "    - title: Title of the visualization plot (default: \"t-SNE Visualization of Clustering Solution\")\n",
        "    \"\"\"\n",
        "\n",
        "    ## Reduce dimensionality to 2D using t-SNE\n",
        "    two_dim = TSNE(random_state=42).fit_transform(df[feats])\n",
        "    two_dim_df = pd.DataFrame(two_dim, index=df.index)\n",
        "    two_dim_df[label] = df[label]\n",
        "\n",
        "    ## Create scatter plot for 2D representation\n",
        "    fig, ax= plt.subplots(figsize=(10,10))\n",
        "    scatter = ax.scatter(x = two_dim_df[0],\n",
        "                        y=two_dim_df[1],\n",
        "                        c=two_dim_df[label],\n",
        "                        s=5,\n",
        "                        cmap=cmap\n",
        "                        )\n",
        "\n",
        "    ## Adjust plot settings\n",
        "    ax.set_xlabel(\"\")\n",
        "    ax.set_ylabel(\"\")\n",
        "    ax.set_xticks([])\n",
        "    ax.set_yticks([])\n",
        "\n",
        "    ## Include legend for cluster labels\n",
        "    legend1 = ax.legend(*scatter.legend_elements(),\n",
        "                        loc=\"best\", title=\"Cluster Labels\")\n",
        "    ax.add_artist(legend1)\n",
        "\n",
        "    ## Set the title of the plot\n",
        "    plt.title(title)\n",
        "    plt.show()"
      ]
    },
    {
      "cell_type": "code",
      "execution_count": null,
      "metadata": {
        "colab": {
          "base_uri": "https://localhost:8080/",
          "height": 443
        },
        "id": "kNqjgraEcaMf",
        "outputId": "8632bde2-62ee-482e-d103-6aabe8b24ea3"
      },
      "outputs": [],
      "source": [
        "df"
      ]
    },
    {
      "cell_type": "code",
      "execution_count": null,
      "metadata": {
        "colab": {
          "base_uri": "https://localhost:8080/",
          "height": 829
        },
        "id": "3GUISCphb1hR",
        "outputId": "93311cef-7fc6-4b7f-c799-79c57782ed38"
      },
      "outputs": [],
      "source": [
        "## Visualizing the clusters' distributions using t-SNE for comprehensive understanding and assessment of the merged data\n",
        "plot_tsne(df, metric_variables, merged_label_name)"
      ]
    }
  ],
  "metadata": {
    "colab": {
      "collapsed_sections": [
        "BXoYH_MNn3n0",
        "QUnPJyedpCpv",
        "ueVMLZfHpYj3",
        "ShfR_92cp-oL",
        "Nh7lzdT4rdGR",
        "Jnl0QUDQsChm",
        "RQ_1AG8ovhFZ",
        "SiOIZnk70ghz",
        "K5bSlTDa3gcr",
        "XTxEJ_iD3lQl",
        "dwHlWpNS3o5v",
        "yBBDxfKh3sU-",
        "sMukofY73vZ2",
        "5QH-Q5C43z4M",
        "QOWG28cO34zd",
        "WHtv88NK371L",
        "Ox79k3ep3_1R",
        "qAFSGZ3t4EBz",
        "h1ZTJiEq4Jv7",
        "B2Wdvphq4NA4",
        "DL_Ddjgl4Qhi",
        "1KH36Lu94W8r",
        "o48JS3HY4a_H",
        "YOeempRq4gX8",
        "ORalhuPv4kA0",
        "8LBcai7_4njj",
        "mJaCITAR4r-s",
        "gfbiO4_F4vUK",
        "ArG0HZSt6-sv"
      ],
      "provenance": [],
      "toc_visible": true
    },
    "kernelspec": {
      "display_name": "Python 3",
      "name": "python3"
    },
    "language_info": {
      "name": "python"
    }
  },
  "nbformat": 4,
  "nbformat_minor": 0
}
